{
 "cells": [
  {
   "cell_type": "code",
   "execution_count": 1,
   "id": "c69af86c",
   "metadata": {},
   "outputs": [],
   "source": [
    "from __future__ import absolute_import, division, print_function, unicode_literals\n",
    "import tensorflow as tf\n",
    "import matplotlib as mpl\n",
    "import matplotlib.pyplot as plt\n",
    "import numpy as np\n",
    "import os\n",
    "import pandas as pd\n",
    "\n",
    "mpl.rcParams['figure.figsize'] = (8, 6)\n",
    "mpl.rcParams['axes.grid'] = False\n",
    "%matplotlib inline"
   ]
  },
  {
   "cell_type": "code",
   "execution_count": 2,
   "id": "6e56220a",
   "metadata": {},
   "outputs": [],
   "source": [
    "df = pd.read_csv('./data/Rune_data.csv')"
   ]
  },
  {
   "cell_type": "code",
   "execution_count": 3,
   "id": "4a9df8a8",
   "metadata": {},
   "outputs": [
    {
     "data": {
      "text/html": [
       "<div>\n",
       "<style scoped>\n",
       "    .dataframe tbody tr th:only-of-type {\n",
       "        vertical-align: middle;\n",
       "    }\n",
       "\n",
       "    .dataframe tbody tr th {\n",
       "        vertical-align: top;\n",
       "    }\n",
       "\n",
       "    .dataframe thead th {\n",
       "        text-align: right;\n",
       "    }\n",
       "</style>\n",
       "<table border=\"1\" class=\"dataframe\">\n",
       "  <thead>\n",
       "    <tr style=\"text-align: right;\">\n",
       "      <th></th>\n",
       "      <th>timestamp</th>\n",
       "      <th>Fire_rune</th>\n",
       "      <th>Water_rune</th>\n",
       "      <th>Air_rune</th>\n",
       "      <th>Earth_rune</th>\n",
       "      <th>Mind_rune</th>\n",
       "      <th>Body_rune</th>\n",
       "      <th>Death_rune</th>\n",
       "      <th>Nature_rune</th>\n",
       "      <th>Chaos_rune</th>\n",
       "      <th>Law_rune</th>\n",
       "      <th>Cosmic_rune</th>\n",
       "      <th>Blood_rune</th>\n",
       "      <th>Soul_rune</th>\n",
       "    </tr>\n",
       "  </thead>\n",
       "  <tbody>\n",
       "    <tr>\n",
       "      <th>0</th>\n",
       "      <td>2021-04-24</td>\n",
       "      <td>5</td>\n",
       "      <td>4</td>\n",
       "      <td>5</td>\n",
       "      <td>5</td>\n",
       "      <td>3</td>\n",
       "      <td>5</td>\n",
       "      <td>183</td>\n",
       "      <td>166</td>\n",
       "      <td>42</td>\n",
       "      <td>116</td>\n",
       "      <td>106</td>\n",
       "      <td>364</td>\n",
       "      <td>146</td>\n",
       "    </tr>\n",
       "    <tr>\n",
       "      <th>1</th>\n",
       "      <td>2021-04-25</td>\n",
       "      <td>5</td>\n",
       "      <td>5</td>\n",
       "      <td>5</td>\n",
       "      <td>5</td>\n",
       "      <td>3</td>\n",
       "      <td>6</td>\n",
       "      <td>182</td>\n",
       "      <td>167</td>\n",
       "      <td>41</td>\n",
       "      <td>117</td>\n",
       "      <td>103</td>\n",
       "      <td>364</td>\n",
       "      <td>145</td>\n",
       "    </tr>\n",
       "    <tr>\n",
       "      <th>2</th>\n",
       "      <td>2021-04-26</td>\n",
       "      <td>5</td>\n",
       "      <td>5</td>\n",
       "      <td>5</td>\n",
       "      <td>4</td>\n",
       "      <td>3</td>\n",
       "      <td>5</td>\n",
       "      <td>182</td>\n",
       "      <td>170</td>\n",
       "      <td>40</td>\n",
       "      <td>117</td>\n",
       "      <td>105</td>\n",
       "      <td>362</td>\n",
       "      <td>144</td>\n",
       "    </tr>\n",
       "    <tr>\n",
       "      <th>3</th>\n",
       "      <td>2021-04-27</td>\n",
       "      <td>5</td>\n",
       "      <td>5</td>\n",
       "      <td>5</td>\n",
       "      <td>4</td>\n",
       "      <td>3</td>\n",
       "      <td>5</td>\n",
       "      <td>182</td>\n",
       "      <td>173</td>\n",
       "      <td>40</td>\n",
       "      <td>118</td>\n",
       "      <td>109</td>\n",
       "      <td>360</td>\n",
       "      <td>144</td>\n",
       "    </tr>\n",
       "    <tr>\n",
       "      <th>4</th>\n",
       "      <td>2021-04-28</td>\n",
       "      <td>5</td>\n",
       "      <td>5</td>\n",
       "      <td>5</td>\n",
       "      <td>5</td>\n",
       "      <td>3</td>\n",
       "      <td>5</td>\n",
       "      <td>180</td>\n",
       "      <td>174</td>\n",
       "      <td>41</td>\n",
       "      <td>118</td>\n",
       "      <td>114</td>\n",
       "      <td>358</td>\n",
       "      <td>143</td>\n",
       "    </tr>\n",
       "  </tbody>\n",
       "</table>\n",
       "</div>"
      ],
      "text/plain": [
       "   timestamp  Fire_rune  Water_rune  Air_rune  Earth_rune  Mind_rune  \\\n",
       "0 2021-04-24          5           4         5           5          3   \n",
       "1 2021-04-25          5           5         5           5          3   \n",
       "2 2021-04-26          5           5         5           4          3   \n",
       "3 2021-04-27          5           5         5           4          3   \n",
       "4 2021-04-28          5           5         5           5          3   \n",
       "\n",
       "   Body_rune  Death_rune  Nature_rune  Chaos_rune  Law_rune  Cosmic_rune  \\\n",
       "0          5         183          166          42       116          106   \n",
       "1          6         182          167          41       117          103   \n",
       "2          5         182          170          40       117          105   \n",
       "3          5         182          173          40       118          109   \n",
       "4          5         180          174          41       118          114   \n",
       "\n",
       "   Blood_rune  Soul_rune  \n",
       "0         364        146  \n",
       "1         364        145  \n",
       "2         362        144  \n",
       "3         360        144  \n",
       "4         358        143  "
      ]
     },
     "execution_count": 3,
     "metadata": {},
     "output_type": "execute_result"
    }
   ],
   "source": [
    "df['timestamp'] = pd.to_datetime(df['timestamp'],unit='ms')\n",
    "df.head()"
   ]
  },
  {
   "cell_type": "code",
   "execution_count": 4,
   "id": "31758a2e",
   "metadata": {},
   "outputs": [],
   "source": [
    "def univariated_data(dataset, start_index, end_index, history_size, target_size):\n",
    "    data = []\n",
    "    labels = []\n",
    "    \n",
    "    start_index = start_index + history_size\n",
    "    if end_index is None:\n",
    "        end_index =len(dataset) - target_size\n",
    "        \n",
    "    for i in range(start_index, end_index):\n",
    "        indices = range(i-history_size,i)\n",
    "        #Reshape our data to (history_Size,1)\n",
    "        data.append(np.reshape(dataset[indices],(history_size,1)))\n",
    "        labels.append(dataset[i+target_size])\n",
    "    return np.array(data), np.array(labels)"
   ]
  },
  {
   "cell_type": "code",
   "execution_count": 5,
   "id": "df2be486",
   "metadata": {},
   "outputs": [],
   "source": [
    "TRAIN_SPLIT = 120"
   ]
  },
  {
   "cell_type": "code",
   "execution_count": 6,
   "id": "2f019487",
   "metadata": {},
   "outputs": [],
   "source": [
    "tf.random.set_seed(13)"
   ]
  },
  {
   "cell_type": "code",
   "execution_count": 7,
   "id": "3d738ff8",
   "metadata": {
    "scrolled": true
   },
   "outputs": [
    {
     "data": {
      "text/plain": [
       "timestamp\n",
       "2021-04-24    42\n",
       "2021-04-25    41\n",
       "2021-04-26    40\n",
       "2021-04-27    40\n",
       "2021-04-28    41\n",
       "Name: Chaos_rune, dtype: int64"
      ]
     },
     "execution_count": 7,
     "metadata": {},
     "output_type": "execute_result"
    }
   ],
   "source": [
    "# Test 1: Chaos Runes, Univariate Timeseries test\n",
    "\n",
    "uni_data = df['Chaos_rune']\n",
    "\n",
    "uni_data.index = df['timestamp']\n",
    "\n",
    "uni_data.head()"
   ]
  },
  {
   "cell_type": "code",
   "execution_count": 8,
   "id": "10a38b14",
   "metadata": {
    "scrolled": false
   },
   "outputs": [
    {
     "data": {
      "text/plain": [
       "array([<AxesSubplot:xlabel='timestamp'>], dtype=object)"
      ]
     },
     "execution_count": 8,
     "metadata": {},
     "output_type": "execute_result"
    },
    {
     "data": {
      "image/png": "[encoded data removed]",
      "text/plain": [
       "<Figure size 432x288 with 1 Axes>"
      ]
     },
     "metadata": {
      "needs_background": "light"
     },
     "output_type": "display_data"
    }
   ],
   "source": [
    "uni_data.plot(subplots=True)\n"
   ]
  },
  {
   "cell_type": "code",
   "execution_count": 9,
   "id": "e83a8747",
   "metadata": {},
   "outputs": [],
   "source": [
    "uni_data = uni_data.values"
   ]
  },
  {
   "cell_type": "code",
   "execution_count": 10,
   "id": "46d52d3a",
   "metadata": {},
   "outputs": [],
   "source": [
    "uni_train_mean = uni_data[:TRAIN_SPLIT].mean()\n",
    "uni_train_std = uni_data[:TRAIN_SPLIT].std()\n"
   ]
  },
  {
   "cell_type": "code",
   "execution_count": 11,
   "id": "77cafa1e",
   "metadata": {},
   "outputs": [],
   "source": [
    "uni_data = (uni_data - uni_train_mean)/uni_train_std"
   ]
  },
  {
   "cell_type": "code",
   "execution_count": 12,
   "id": "0d31d976",
   "metadata": {},
   "outputs": [],
   "source": [
    "univariated_past_history = 10\n",
    "univariated_future_target = 0\n",
    "\n",
    "x_train_uni, y_train_uni = univariated_data(uni_data, 0 ,TRAIN_SPLIT,\n",
    "                                          univariated_past_history,\n",
    "                                          univariated_future_target)\n",
    "\n",
    "x_val_uni, y_val_uni = univariated_data(uni_data,TRAIN_SPLIT, None,\n",
    "                                      univariated_past_history,\n",
    "                                      univariated_future_target)"
   ]
  },
  {
   "cell_type": "code",
   "execution_count": 13,
   "id": "abf37eb2",
   "metadata": {},
   "outputs": [
    {
     "name": "stdout",
     "output_type": "stream",
     "text": [
      "single window of past history\n",
      "[[-1.32599054]\n",
      " [-1.77675219]\n",
      " [-2.22751385]\n",
      " [-2.22751385]\n",
      " [-1.77675219]\n",
      " [-1.77675219]\n",
      " [-1.32599054]\n",
      " [-0.87522888]\n",
      " [-0.42446723]\n",
      " [ 0.02629443]]\n",
      "n\\ target to predict\n",
      "0.026294429929850417\n"
     ]
    }
   ],
   "source": [
    "print('single window of past history')\n",
    "print(x_train_uni[0])\n",
    "print('n\\ target to predict')\n",
    "print(y_train_uni[0])"
   ]
  },
  {
   "cell_type": "code",
   "execution_count": 14,
   "id": "da29d84a",
   "metadata": {},
   "outputs": [],
   "source": [
    "def create_time_steps(length):\n",
    "    time_steps = []\n",
    "    for i in range(-length, 0, 1):\n",
    "        time_steps.append(i)\n",
    "    return time_steps"
   ]
  },
  {
   "cell_type": "code",
   "execution_count": 15,
   "id": "3d38a12b",
   "metadata": {},
   "outputs": [],
   "source": [
    "def show_plot (plot_data, delta, title):\n",
    "    labels = [\"History\", \"True Future\", \"Model Prediction\"]\n",
    "    marker = [\".-\",\"rx\",\"go\"]\n",
    "    time_steps = create_time_steps(plot_data[0].shape[0])\n",
    "    if delta:\n",
    "        future = delta\n",
    "    else:\n",
    "        future = 0\n",
    "        \n",
    "    plt.title(title)\n",
    "    for i, x in enumerate(plot_data):\n",
    "        if i:\n",
    "            plt.plot(future, plot_data[i], marker[i], markersize = 10,\n",
    "                     label= labels[i])\n",
    "        else:\n",
    "            plt.plot(time_steps, plot_data[i].flatten(), marker[i], label=labels[i])\n",
    "        plt.legend()\n",
    "        plt.xlim([time_steps[0], (future+5)*2])\n",
    "        plt.xlabel('Time-step')\n",
    "        return plt\n",
    "            \n",
    "            \n",
    "    \n",
    "    "
   ]
  },
  {
   "cell_type": "code",
   "execution_count": 16,
   "id": "ae3c12c2",
   "metadata": {},
   "outputs": [
    {
     "data": {
      "image/png": "[encoded data removed]",
      "text/plain": [
       "<Figure size 432x288 with 1 Axes>"
      ]
     },
     "metadata": {
      "needs_background": "light"
     },
     "output_type": "display_data"
    }
   ],
   "source": [
    "plot = show_plot([x_train_uni[0],y_train_uni[0]], 0, 'Sample Example')\n",
    "plot.show()"
   ]
  },
  {
   "cell_type": "code",
   "execution_count": 17,
   "id": "4803ccdb",
   "metadata": {},
   "outputs": [],
   "source": [
    "# BASELINE"
   ]
  },
  {
   "cell_type": "code",
   "execution_count": 18,
   "id": "d4a4abee",
   "metadata": {},
   "outputs": [],
   "source": [
    "def baseline(history):\n",
    "    return np.mean(history)"
   ]
  },
  {
   "cell_type": "code",
   "execution_count": 19,
   "id": "1874e270",
   "metadata": {},
   "outputs": [
    {
     "data": {
      "image/png": "[encoded data removed]",
      "text/plain": [
       "<Figure size 432x288 with 1 Axes>"
      ]
     },
     "metadata": {
      "needs_background": "light"
     },
     "output_type": "display_data"
    }
   ],
   "source": [
    "plot = show_plot([x_train_uni[0], y_train_uni[0], baseline(x_train_uni[0])], 0, \"Baseline Prediction Example\")\n",
    "plot.show()"
   ]
  },
  {
   "cell_type": "code",
   "execution_count": 20,
   "id": "9418480b",
   "metadata": {},
   "outputs": [],
   "source": [
    "# Apply Recurring neural network to Rune's Dataset"
   ]
  },
  {
   "cell_type": "code",
   "execution_count": 21,
   "id": "d14ea4ca",
   "metadata": {},
   "outputs": [],
   "source": [
    "BATCH_SIZE = 20\n",
    "BUFFER_SIZE = 5\n",
    "\n",
    "train_univariate = tf.data.Dataset.from_tensor_slices((x_train_uni, y_train_uni))\n",
    "train_univariate = train_univariate.cache().shuffle(BUFFER_SIZE).batch(BATCH_SIZE).repeat()\n",
    "\n",
    "val_univariate = tf.data.Dataset.from_tensor_slices((x_val_uni, y_val_uni))\n",
    "val_univariate = val_univariate.batch(BATCH_SIZE).repeat()\n",
    "\n"
   ]
  },
  {
   "cell_type": "code",
   "execution_count": 22,
   "id": "0dc4ab1e",
   "metadata": {},
   "outputs": [],
   "source": [
    "simple_lstm_model = tf.keras.models.Sequential([\n",
    "    tf.keras.layers.LSTM(8, input_shape=x_train_uni.shape[-2:]),\n",
    "    tf.keras.layers.Dense(1)\n",
    "])\n",
    "\n",
    "simple_lstm_model.compile(optimizer='adam', loss = 'mae')"
   ]
  },
  {
   "cell_type": "code",
   "execution_count": 23,
   "id": "72239f32",
   "metadata": {},
   "outputs": [
    {
     "name": "stdout",
     "output_type": "stream",
     "text": [
      "(20, 1)\n"
     ]
    }
   ],
   "source": [
    "for x, y in val_univariate.take(1):\n",
    "    print(simple_lstm_model.predict(x).shape)"
   ]
  },
  {
   "cell_type": "code",
   "execution_count": 25,
   "id": "7d2f2c0f",
   "metadata": {},
   "outputs": [
    {
     "name": "stdout",
     "output_type": "stream",
     "text": [
      "Epoch 1/20\n",
      "500/500 [==============================] - 3s 5ms/step - loss: 0.4628 - val_loss: 0.9605\n",
      "Epoch 2/20\n",
      "500/500 [==============================] - 2s 4ms/step - loss: 0.3231 - val_loss: 0.8033\n",
      "Epoch 3/20\n",
      "500/500 [==============================] - 2s 3ms/step - loss: 0.2472 - val_loss: 0.8263\n",
      "Epoch 4/20\n",
      "500/500 [==============================] - 2s 3ms/step - loss: 0.2270 - val_loss: 0.9563\n",
      "Epoch 5/20\n",
      "500/500 [==============================] - 2s 3ms/step - loss: 0.2164 - val_loss: 1.0420\n",
      "Epoch 6/20\n",
      "500/500 [==============================] - 2s 3ms/step - loss: 0.2098 - val_loss: 1.0859\n",
      "Epoch 7/20\n",
      "500/500 [==============================] - 2s 3ms/step - loss: 0.2049 - val_loss: 1.1174\n",
      "Epoch 8/20\n",
      "500/500 [==============================] - 2s 3ms/step - loss: 0.1999 - val_loss: 1.1356\n",
      "Epoch 9/20\n",
      "500/500 [==============================] - 2s 3ms/step - loss: 0.1953 - val_loss: 1.1700\n",
      "Epoch 10/20\n",
      "500/500 [==============================] - 2s 3ms/step - loss: 0.1903 - val_loss: 1.2020\n",
      "Epoch 11/20\n",
      "500/500 [==============================] - 2s 3ms/step - loss: 0.1842 - val_loss: 1.2229\n",
      "Epoch 12/20\n",
      "500/500 [==============================] - 2s 3ms/step - loss: 0.1793 - val_loss: 1.2277\n",
      "Epoch 13/20\n",
      "500/500 [==============================] - 2s 3ms/step - loss: 0.1740 - val_loss: 1.2369\n",
      "Epoch 14/20\n",
      "500/500 [==============================] - 2s 3ms/step - loss: 0.1673 - val_loss: 1.2542\n",
      "Epoch 15/20\n",
      "500/500 [==============================] - 2s 3ms/step - loss: 0.1611 - val_loss: 1.2788\n",
      "Epoch 16/20\n",
      "500/500 [==============================] - 2s 3ms/step - loss: 0.1563 - val_loss: 1.2956\n",
      "Epoch 17/20\n",
      "500/500 [==============================] - 2s 3ms/step - loss: 0.1533 - val_loss: 1.3209\n",
      "Epoch 18/20\n",
      "500/500 [==============================] - 2s 3ms/step - loss: 0.1502 - val_loss: 1.3428\n",
      "Epoch 19/20\n",
      "500/500 [==============================] - 2s 3ms/step - loss: 0.1466 - val_loss: 1.3564\n",
      "Epoch 20/20\n",
      "500/500 [==============================] - 2s 3ms/step - loss: 0.1416 - val_loss: 1.3738\n"
     ]
    },
    {
     "data": {
      "text/plain": [
       "<tensorflow.python.keras.callbacks.History at 0x271850a86a0>"
      ]
     },
     "execution_count": 25,
     "metadata": {},
     "output_type": "execute_result"
    }
   ],
   "source": [
    "EVALUATION_INTERVAL = 500\n",
    "EPOCHS = 20\n",
    "\n",
    "simple_lstm_model.fit(train_univariate, epochs = EPOCHS,\n",
    "                     steps_per_epoch=EVALUATION_INTERVAL,\n",
    "                     validation_data = val_univariate, validation_steps=50)"
   ]
  },
  {
   "cell_type": "code",
   "execution_count": null,
   "id": "5346f081",
   "metadata": {},
   "outputs": [],
   "source": [
    "# Loss is decreasing, this is probably overfitting..... "
   ]
  }
 ],
 "metadata": {
  "kernelspec": {
   "display_name": "Python 3 (ipykernel)",
   "language": "python",
   "name": "python3"
  },
  "language_info": {
   "codemirror_mode": {
    "name": "ipython",
    "version": 3
   },
   "file_extension": ".py",
   "mimetype": "text/x-python",
   "name": "python",
   "nbconvert_exporter": "python",
   "pygments_lexer": "ipython3",
   "version": "3.8.12"
  }
 },
 "nbformat": 4,
 "nbformat_minor": 5
}
