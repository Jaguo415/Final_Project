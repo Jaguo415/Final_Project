{
 "cells": [
  {
   "cell_type": "code",
   "execution_count": 4,
   "id": "fa81cac4",
   "metadata": {},
   "outputs": [],
   "source": [
    "import pandas as pd\n",
    "import numpy as np\n",
    "import matplotlib.pyplot as plt\n",
    "import seaborn as sns\n",
    "%matplotlib inline"
   ]
  },
  {
   "cell_type": "code",
   "execution_count": 6,
   "id": "1275ea6d",
   "metadata": {},
   "outputs": [],
   "source": [
    "df = pd.read_csv('./data/Log_Data.csv')"
   ]
  },
  {
   "cell_type": "code",
   "execution_count": 7,
   "id": "3e5fd203",
   "metadata": {},
   "outputs": [
    {
     "data": {
      "text/plain": [
       "<bound method Styler.format of <pandas.io.formats.style.Styler object at 0x000002ADBAD3C0A0>>"
      ]
     },
     "execution_count": 7,
     "metadata": {},
     "output_type": "execute_result"
    }
   ],
   "source": [
    "df.set_index('timestamp')\n",
    "df['timestamp'] = pd.to_datetime(df['timestamp'],unit='ms')\n",
    "df.style.format"
   ]
  },
  {
   "cell_type": "code",
   "execution_count": 8,
   "id": "744edf3d",
   "metadata": {},
   "outputs": [
    {
     "data": {
      "text/html": [
       "<div>\n",
       "<style scoped>\n",
       "    .dataframe tbody tr th:only-of-type {\n",
       "        vertical-align: middle;\n",
       "    }\n",
       "\n",
       "    .dataframe tbody tr th {\n",
       "        vertical-align: top;\n",
       "    }\n",
       "\n",
       "    .dataframe thead th {\n",
       "        text-align: right;\n",
       "    }\n",
       "</style>\n",
       "<table border=\"1\" class=\"dataframe\">\n",
       "  <thead>\n",
       "    <tr style=\"text-align: right;\">\n",
       "      <th></th>\n",
       "      <th>timestamp</th>\n",
       "      <th>Oak_logs</th>\n",
       "      <th>Willow_logs</th>\n",
       "      <th>Maple_logs</th>\n",
       "      <th>Yew_logs</th>\n",
       "    </tr>\n",
       "  </thead>\n",
       "  <tbody>\n",
       "    <tr>\n",
       "      <th>0</th>\n",
       "      <td>2021-04-30</td>\n",
       "      <td>57</td>\n",
       "      <td>19</td>\n",
       "      <td>11</td>\n",
       "      <td>236</td>\n",
       "    </tr>\n",
       "    <tr>\n",
       "      <th>1</th>\n",
       "      <td>2021-05-01</td>\n",
       "      <td>58</td>\n",
       "      <td>19</td>\n",
       "      <td>11</td>\n",
       "      <td>234</td>\n",
       "    </tr>\n",
       "    <tr>\n",
       "      <th>2</th>\n",
       "      <td>2021-05-02</td>\n",
       "      <td>61</td>\n",
       "      <td>19</td>\n",
       "      <td>11</td>\n",
       "      <td>230</td>\n",
       "    </tr>\n",
       "    <tr>\n",
       "      <th>3</th>\n",
       "      <td>2021-05-03</td>\n",
       "      <td>65</td>\n",
       "      <td>19</td>\n",
       "      <td>11</td>\n",
       "      <td>227</td>\n",
       "    </tr>\n",
       "    <tr>\n",
       "      <th>4</th>\n",
       "      <td>2021-05-04</td>\n",
       "      <td>69</td>\n",
       "      <td>19</td>\n",
       "      <td>11</td>\n",
       "      <td>224</td>\n",
       "    </tr>\n",
       "    <tr>\n",
       "      <th>...</th>\n",
       "      <td>...</td>\n",
       "      <td>...</td>\n",
       "      <td>...</td>\n",
       "      <td>...</td>\n",
       "      <td>...</td>\n",
       "    </tr>\n",
       "    <tr>\n",
       "      <th>175</th>\n",
       "      <td>2021-10-22</td>\n",
       "      <td>52</td>\n",
       "      <td>19</td>\n",
       "      <td>9</td>\n",
       "      <td>216</td>\n",
       "    </tr>\n",
       "    <tr>\n",
       "      <th>176</th>\n",
       "      <td>2021-10-23</td>\n",
       "      <td>52</td>\n",
       "      <td>18</td>\n",
       "      <td>9</td>\n",
       "      <td>217</td>\n",
       "    </tr>\n",
       "    <tr>\n",
       "      <th>177</th>\n",
       "      <td>2021-10-24</td>\n",
       "      <td>52</td>\n",
       "      <td>18</td>\n",
       "      <td>9</td>\n",
       "      <td>214</td>\n",
       "    </tr>\n",
       "    <tr>\n",
       "      <th>178</th>\n",
       "      <td>2021-10-25</td>\n",
       "      <td>54</td>\n",
       "      <td>19</td>\n",
       "      <td>9</td>\n",
       "      <td>216</td>\n",
       "    </tr>\n",
       "    <tr>\n",
       "      <th>179</th>\n",
       "      <td>2021-10-26</td>\n",
       "      <td>55</td>\n",
       "      <td>19</td>\n",
       "      <td>9</td>\n",
       "      <td>218</td>\n",
       "    </tr>\n",
       "  </tbody>\n",
       "</table>\n",
       "<p>180 rows × 5 columns</p>\n",
       "</div>"
      ],
      "text/plain": [
       "     timestamp  Oak_logs  Willow_logs  Maple_logs  Yew_logs\n",
       "0   2021-04-30        57           19          11       236\n",
       "1   2021-05-01        58           19          11       234\n",
       "2   2021-05-02        61           19          11       230\n",
       "3   2021-05-03        65           19          11       227\n",
       "4   2021-05-04        69           19          11       224\n",
       "..         ...       ...          ...         ...       ...\n",
       "175 2021-10-22        52           19           9       216\n",
       "176 2021-10-23        52           18           9       217\n",
       "177 2021-10-24        52           18           9       214\n",
       "178 2021-10-25        54           19           9       216\n",
       "179 2021-10-26        55           19           9       218\n",
       "\n",
       "[180 rows x 5 columns]"
      ]
     },
     "execution_count": 8,
     "metadata": {},
     "output_type": "execute_result"
    }
   ],
   "source": [
    "df"
   ]
  },
  {
   "cell_type": "code",
   "execution_count": 9,
   "id": "bbf4cb3d",
   "metadata": {},
   "outputs": [
    {
     "name": "stdout",
     "output_type": "stream",
     "text": [
      "         Oak_logs  Willow_logs  Maple_logs    Yew_logs\n",
      "count  180.000000   180.000000  180.000000  180.000000\n",
      "mean    65.777778    18.966667   11.066667  221.850000\n",
      "std      8.791537     0.447214    1.942181   13.465236\n",
      "min     50.000000    18.000000    9.000000  197.000000\n",
      "25%     58.000000    19.000000    9.000000  212.000000\n",
      "50%     66.000000    19.000000   11.000000  218.000000\n",
      "75%     73.000000    19.000000   12.000000  232.000000\n",
      "max     87.000000    20.000000   15.000000  259.000000\n"
     ]
    }
   ],
   "source": [
    "print(df.describe())"
   ]
  },
  {
   "cell_type": "code",
   "execution_count": 10,
   "id": "d125efe8",
   "metadata": {},
   "outputs": [
    {
     "name": "stdout",
     "output_type": "stream",
     "text": [
      "(180, 5)\n"
     ]
    }
   ],
   "source": [
    "print(df.shape)"
   ]
  },
  {
   "cell_type": "code",
   "execution_count": 11,
   "id": "5faafc5f",
   "metadata": {},
   "outputs": [
    {
     "name": "stdout",
     "output_type": "stream",
     "text": [
      "timestamp      datetime64[ns]\n",
      "Oak_logs                int64\n",
      "Willow_logs             int64\n",
      "Maple_logs              int64\n",
      "Yew_logs                int64\n",
      "dtype: object\n"
     ]
    }
   ],
   "source": [
    "print(df.dtypes)"
   ]
  },
  {
   "cell_type": "code",
   "execution_count": 12,
   "id": "e4f2d14f",
   "metadata": {},
   "outputs": [],
   "source": [
    "# Plot, and add heatmap"
   ]
  },
  {
   "cell_type": "code",
   "execution_count": 13,
   "id": "fb770bdc",
   "metadata": {
    "scrolled": true
   },
   "outputs": [
    {
     "data": {
      "text/plain": [
       "array([[<AxesSubplot:title={'center':'timestamp'}>,\n",
       "        <AxesSubplot:title={'center':'Oak_logs'}>],\n",
       "       [<AxesSubplot:title={'center':'Willow_logs'}>,\n",
       "        <AxesSubplot:title={'center':'Maple_logs'}>],\n",
       "       [<AxesSubplot:title={'center':'Yew_logs'}>, <AxesSubplot:>]],\n",
       "      dtype=object)"
      ]
     },
     "execution_count": 13,
     "metadata": {},
     "output_type": "execute_result"
    },
    {
     "data": {
      "image/png": "[encoded data removed]",
      "text/plain": [
       "<Figure size 432x288 with 6 Axes>"
      ]
     },
     "metadata": {
      "needs_background": "light"
     },
     "output_type": "display_data"
    }
   ],
   "source": [
    "df.hist(bins=30)"
   ]
  },
  {
   "cell_type": "code",
   "execution_count": 16,
   "id": "4b4d795e",
   "metadata": {
    "scrolled": true
   },
   "outputs": [
    {
     "data": {
      "text/plain": [
       "<AxesSubplot:xlabel='Yew_logs'>"
      ]
     },
     "execution_count": 16,
     "metadata": {},
     "output_type": "execute_result"
    },
    {
     "data": {
      "image/png": "[encoded data removed]",
      "text/plain": [
       "<Figure size 432x288 with 1 Axes>"
      ]
     },
     "metadata": {
      "needs_background": "light"
     },
     "output_type": "display_data"
    }
   ],
   "source": [
    "sns.boxplot(x=df['Yew_logs'])"
   ]
  },
  {
   "cell_type": "code",
   "execution_count": 17,
   "id": "c0626250",
   "metadata": {
    "scrolled": false
   },
   "outputs": [
    {
     "data": {
      "text/html": [
       "<div>\n",
       "<style scoped>\n",
       "    .dataframe tbody tr th:only-of-type {\n",
       "        vertical-align: middle;\n",
       "    }\n",
       "\n",
       "    .dataframe tbody tr th {\n",
       "        vertical-align: top;\n",
       "    }\n",
       "\n",
       "    .dataframe thead th {\n",
       "        text-align: right;\n",
       "    }\n",
       "</style>\n",
       "<table border=\"1\" class=\"dataframe\">\n",
       "  <thead>\n",
       "    <tr style=\"text-align: right;\">\n",
       "      <th></th>\n",
       "      <th>Oak_logs</th>\n",
       "      <th>Willow_logs</th>\n",
       "      <th>Maple_logs</th>\n",
       "      <th>Yew_logs</th>\n",
       "    </tr>\n",
       "  </thead>\n",
       "  <tbody>\n",
       "    <tr>\n",
       "      <th>Oak_logs</th>\n",
       "      <td>1.000000</td>\n",
       "      <td>0.199875</td>\n",
       "      <td>0.695158</td>\n",
       "      <td>0.573902</td>\n",
       "    </tr>\n",
       "    <tr>\n",
       "      <th>Willow_logs</th>\n",
       "      <td>0.199875</td>\n",
       "      <td>1.000000</td>\n",
       "      <td>0.079756</td>\n",
       "      <td>0.181926</td>\n",
       "    </tr>\n",
       "    <tr>\n",
       "      <th>Maple_logs</th>\n",
       "      <td>0.695158</td>\n",
       "      <td>0.079756</td>\n",
       "      <td>1.000000</td>\n",
       "      <td>0.798899</td>\n",
       "    </tr>\n",
       "    <tr>\n",
       "      <th>Yew_logs</th>\n",
       "      <td>0.573902</td>\n",
       "      <td>0.181926</td>\n",
       "      <td>0.798899</td>\n",
       "      <td>1.000000</td>\n",
       "    </tr>\n",
       "  </tbody>\n",
       "</table>\n",
       "</div>"
      ],
      "text/plain": [
       "             Oak_logs  Willow_logs  Maple_logs  Yew_logs\n",
       "Oak_logs     1.000000     0.199875    0.695158  0.573902\n",
       "Willow_logs  0.199875     1.000000    0.079756  0.181926\n",
       "Maple_logs   0.695158     0.079756    1.000000  0.798899\n",
       "Yew_logs     0.573902     0.181926    0.798899  1.000000"
      ]
     },
     "execution_count": 17,
     "metadata": {},
     "output_type": "execute_result"
    },
    {
     "data": {
      "image/png": "[encoded data removed]",
      "text/plain": [
       "<Figure size 1440x720 with 2 Axes>"
      ]
     },
     "metadata": {
      "needs_background": "light"
     },
     "output_type": "display_data"
    }
   ],
   "source": [
    "plt.figure(figsize = (20,10))\n",
    "c = df.corr()\n",
    "sns.heatmap(c,annot=True)\n",
    "c"
   ]
  },
  {
   "cell_type": "code",
   "execution_count": null,
   "id": "7be39079",
   "metadata": {},
   "outputs": [],
   "source": []
  },
  {
   "cell_type": "code",
   "execution_count": null,
   "id": "ce560041",
   "metadata": {},
   "outputs": [],
   "source": []
  },
  {
   "cell_type": "code",
   "execution_count": null,
   "id": "5e931c30",
   "metadata": {},
   "outputs": [],
   "source": []
  }
 ],
 "metadata": {
  "kernelspec": {
   "display_name": "Python 3 (ipykernel)",
   "language": "python",
   "name": "python3"
  },
  "language_info": {
   "codemirror_mode": {
    "name": "ipython",
    "version": 3
   },
   "file_extension": ".py",
   "mimetype": "text/x-python",
   "name": "python",
   "nbconvert_exporter": "python",
   "pygments_lexer": "ipython3",
   "version": "3.8.12"
  }
 },
 "nbformat": 4,
 "nbformat_minor": 5
}
