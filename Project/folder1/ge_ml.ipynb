{
 "cells": [
  {
   "cell_type": "code",
   "execution_count": 1,
   "id": "c69af86c",
   "metadata": {},
   "outputs": [],
   "source": [
    "from __future__ import absolute_import, division, print_function, unicode_literals\n",
    "import tensorflow as tf\n",
    "import matplotlib as mpl\n",
    "import matplotlib.pyplot as plt\n",
    "import numpy as np\n",
    "import os\n",
    "import pandas as pd\n",
    "\n",
    "mpl.rcParams['figure.figsize'] = (8, 6)\n",
    "mpl.rcParams['axes.grid'] = False\n",
    "%matplotlib inline"
   ]
  },
  {
   "cell_type": "code",
   "execution_count": 2,
   "id": "6e56220a",
   "metadata": {},
   "outputs": [],
   "source": [
    "df = pd.read_csv('./data/Log_Data.csv')"
   ]
  },
  {
   "cell_type": "code",
   "execution_count": 3,
   "id": "4a9df8a8",
   "metadata": {},
   "outputs": [
    {
     "data": {
      "text/html": [
       "<div>\n",
       "<style scoped>\n",
       "    .dataframe tbody tr th:only-of-type {\n",
       "        vertical-align: middle;\n",
       "    }\n",
       "\n",
       "    .dataframe tbody tr th {\n",
       "        vertical-align: top;\n",
       "    }\n",
       "\n",
       "    .dataframe thead th {\n",
       "        text-align: right;\n",
       "    }\n",
       "</style>\n",
       "<table border=\"1\" class=\"dataframe\">\n",
       "  <thead>\n",
       "    <tr style=\"text-align: right;\">\n",
       "      <th></th>\n",
       "      <th>timestamp</th>\n",
       "      <th>Oak_logs</th>\n",
       "      <th>Willow_logs</th>\n",
       "      <th>Maple_logs</th>\n",
       "      <th>Yew_logs</th>\n",
       "    </tr>\n",
       "  </thead>\n",
       "  <tbody>\n",
       "    <tr>\n",
       "      <th>0</th>\n",
       "      <td>2021-04-30</td>\n",
       "      <td>57</td>\n",
       "      <td>19</td>\n",
       "      <td>11</td>\n",
       "      <td>236</td>\n",
       "    </tr>\n",
       "    <tr>\n",
       "      <th>1</th>\n",
       "      <td>2021-05-01</td>\n",
       "      <td>58</td>\n",
       "      <td>19</td>\n",
       "      <td>11</td>\n",
       "      <td>234</td>\n",
       "    </tr>\n",
       "    <tr>\n",
       "      <th>2</th>\n",
       "      <td>2021-05-02</td>\n",
       "      <td>61</td>\n",
       "      <td>19</td>\n",
       "      <td>11</td>\n",
       "      <td>230</td>\n",
       "    </tr>\n",
       "    <tr>\n",
       "      <th>3</th>\n",
       "      <td>2021-05-03</td>\n",
       "      <td>65</td>\n",
       "      <td>19</td>\n",
       "      <td>11</td>\n",
       "      <td>227</td>\n",
       "    </tr>\n",
       "    <tr>\n",
       "      <th>4</th>\n",
       "      <td>2021-05-04</td>\n",
       "      <td>69</td>\n",
       "      <td>19</td>\n",
       "      <td>11</td>\n",
       "      <td>224</td>\n",
       "    </tr>\n",
       "  </tbody>\n",
       "</table>\n",
       "</div>"
      ],
      "text/plain": [
       "   timestamp  Oak_logs  Willow_logs  Maple_logs  Yew_logs\n",
       "0 2021-04-30        57           19          11       236\n",
       "1 2021-05-01        58           19          11       234\n",
       "2 2021-05-02        61           19          11       230\n",
       "3 2021-05-03        65           19          11       227\n",
       "4 2021-05-04        69           19          11       224"
      ]
     },
     "execution_count": 3,
     "metadata": {},
     "output_type": "execute_result"
    }
   ],
   "source": [
    "df['timestamp'] = pd.to_datetime(df['timestamp'],unit='ms')\n",
    "df.head()"
   ]
  },
  {
   "cell_type": "code",
   "execution_count": 4,
   "id": "31758a2e",
   "metadata": {},
   "outputs": [],
   "source": [
    "def univariate_data(dataset, start_index, end_index, history_size, target_size):\n",
    "    data = []\n",
    "    labels = []\n",
    "    \n",
    "    start_index = start_index + history_size\n",
    "    if end_index is None:\n",
    "        end_index = len(dataset) - target_size\n",
    "        \n",
    "    for i in range(start_index, end_index):\n",
    "        indices = range(i-history_size,i)\n",
    "        #Reshape our data to (history_Size,1)\n",
    "        data.append(np.reshape(dataset[indices],(history_size,1)))\n",
    "        labels.append(dataset[i+target_size])\n",
    "    return np.array(data), np.array(labels)"
   ]
  },
  {
   "cell_type": "code",
   "execution_count": 5,
   "id": "df2be486",
   "metadata": {},
   "outputs": [],
   "source": [
    "TRAIN_SPLIT = 120"
   ]
  },
  {
   "cell_type": "code",
   "execution_count": 6,
   "id": "2f019487",
   "metadata": {},
   "outputs": [],
   "source": [
    "tf.random.set_seed(13)"
   ]
  },
  {
   "cell_type": "code",
   "execution_count": 7,
   "id": "3d738ff8",
   "metadata": {
    "scrolled": true
   },
   "outputs": [
    {
     "data": {
      "text/plain": [
       "timestamp\n",
       "2021-04-30    19\n",
       "2021-05-01    19\n",
       "2021-05-02    19\n",
       "2021-05-03    19\n",
       "2021-05-04    19\n",
       "Name: Willow_logs, dtype: int64"
      ]
     },
     "execution_count": 7,
     "metadata": {},
     "output_type": "execute_result"
    }
   ],
   "source": [
    "# Test 1: Chaos Runes, Univariate Timeseries test\n",
    "\n",
    "uni_data = df['Willow_logs']\n",
    "\n",
    "uni_data.index = df['timestamp']\n",
    "\n",
    "uni_data.head()"
   ]
  },
  {
   "cell_type": "code",
   "execution_count": 8,
   "id": "10a38b14",
   "metadata": {
    "scrolled": false
   },
   "outputs": [
    {
     "data": {
      "text/plain": [
       "array([<AxesSubplot:xlabel='timestamp'>], dtype=object)"
      ]
     },
     "execution_count": 8,
     "metadata": {},
     "output_type": "execute_result"
    },
    {
     "data": {
      "image/png": "[encoded data removed]",
      "text/plain": [
       "<Figure size 432x288 with 1 Axes>"
      ]
     },
     "metadata": {
      "needs_background": "light"
     },
     "output_type": "display_data"
    }
   ],
   "source": [
    "uni_data.plot(subplots=True)\n"
   ]
  },
  {
   "cell_type": "code",
   "execution_count": 9,
   "id": "e83a8747",
   "metadata": {},
   "outputs": [],
   "source": [
    "uni_data = uni_data.values"
   ]
  },
  {
   "cell_type": "code",
   "execution_count": 10,
   "id": "46d52d3a",
   "metadata": {},
   "outputs": [],
   "source": [
    "# normalize features by applying coefficent of variation. subtracting mean and dividing by standard dev\n",
    "uni_train_mean = uni_data[:TRAIN_SPLIT].mean()\n",
    "uni_train_std = uni_data[:TRAIN_SPLIT].std()\n"
   ]
  },
  {
   "cell_type": "code",
   "execution_count": 11,
   "id": "77cafa1e",
   "metadata": {},
   "outputs": [],
   "source": [
    "# normalized data, coefficent of variation\n",
    "uni_data = (uni_data-uni_train_mean)/uni_train_std"
   ]
  },
  {
   "cell_type": "code",
   "execution_count": 12,
   "id": "0d31d976",
   "metadata": {},
   "outputs": [],
   "source": [
    "# Univariate model. We feed the Model the last 10 records, it needs to learn to predict the next upcoming record\n",
    "univariate_past_history = 10\n",
    "univariate_future_target = 0\n",
    "\n",
    "x_train_uni, y_train_uni = univariate_data(uni_data, 0 ,TRAIN_SPLIT,\n",
    "                                          univariate_past_history,\n",
    "                                          univariate_future_target)\n",
    "\n",
    "x_val_uni, y_val_uni = univariate_data(uni_data,TRAIN_SPLIT, None,\n",
    "                                      univariate_past_history,\n",
    "                                      univariate_future_target)"
   ]
  },
  {
   "cell_type": "code",
   "execution_count": 13,
   "id": "abf37eb2",
   "metadata": {},
   "outputs": [
    {
     "name": "stdout",
     "output_type": "stream",
     "text": [
      "single window of past history\n",
      "[[0.09166985]\n",
      " [0.09166985]\n",
      " [0.09166985]\n",
      " [0.09166985]\n",
      " [0.09166985]\n",
      " [0.09166985]\n",
      " [0.09166985]\n",
      " [0.09166985]\n",
      " [0.09166985]\n",
      " [0.09166985]]\n",
      "\n",
      " target to predict\n",
      "0.09166984970281591\n"
     ]
    }
   ],
   "source": [
    "print('single window of past history')\n",
    "print(x_train_uni[0])\n",
    "print('\\n target to predict')\n",
    "print(y_train_uni[0])"
   ]
  },
  {
   "cell_type": "code",
   "execution_count": 14,
   "id": "da29d84a",
   "metadata": {},
   "outputs": [],
   "source": [
    "# Create time step\n",
    "def create_time_steps(length):\n",
    "    time_steps = []\n",
    "    for i in range(-length, 0, 1):\n",
    "        time_steps.append(i)\n",
    "    return time_steps"
   ]
  },
  {
   "cell_type": "code",
   "execution_count": 15,
   "id": "3d38a12b",
   "metadata": {},
   "outputs": [],
   "source": [
    "def show_plot (plot_data, delta, title):\n",
    "    labels = ['History', 'True Future', 'Model Prediction']\n",
    "    marker = ['.-' , 'rx' ,'go']\n",
    "    time_steps = create_time_steps(plot_data[0].shape[0])\n",
    "    if delta:\n",
    "        future = delta\n",
    "    else:\n",
    "        future = 0\n",
    "        \n",
    "    plt.title(title)\n",
    "    for i, x in enumerate(plot_data):\n",
    "        if i:\n",
    "            plt.plot(future, plot_data[i], marker[i], markersize = 10,\n",
    "                     label= labels[i])\n",
    "        else:\n",
    "            plt.plot(time_steps, plot_data[i].flatten(), marker[i], label=labels[i])\n",
    "        plt.legend()\n",
    "        plt.xlim([time_steps[0], (future+5)*2])\n",
    "        plt.xlabel('Time-step')\n",
    "        return plt\n",
    "            \n",
    "            \n",
    "    \n",
    "    "
   ]
  },
  {
   "cell_type": "code",
   "execution_count": 16,
   "id": "ae3c12c2",
   "metadata": {
    "scrolled": true
   },
   "outputs": [
    {
     "data": {
      "image/png": "[encoded data removed]",
      "text/plain": [
       "<Figure size 432x288 with 1 Axes>"
      ]
     },
     "metadata": {
      "needs_background": "light"
     },
     "output_type": "display_data"
    }
   ],
   "source": [
    "plot = show_plot([x_train_uni[0],y_train_uni[0]], 0, 'Sample Example')\n",
    "plot.show()"
   ]
  },
  {
   "cell_type": "code",
   "execution_count": 17,
   "id": "4803ccdb",
   "metadata": {},
   "outputs": [],
   "source": [
    "# BASELINE"
   ]
  },
  {
   "cell_type": "code",
   "execution_count": 18,
   "id": "d4a4abee",
   "metadata": {},
   "outputs": [],
   "source": [
    "def baseline(history):\n",
    "    return np.mean(history)"
   ]
  },
  {
   "cell_type": "code",
   "execution_count": 19,
   "id": "1874e270",
   "metadata": {
    "scrolled": true
   },
   "outputs": [
    {
     "data": {
      "image/png": "[encoded data removed]",
      "text/plain": [
       "<Figure size 432x288 with 1 Axes>"
      ]
     },
     "metadata": {
      "needs_background": "light"
     },
     "output_type": "display_data"
    }
   ],
   "source": [
    "plot = show_plot([x_train_uni[0], y_train_uni[0], baseline(x_train_uni[0])], 0, \"Baseline Prediction Example\")\n",
    "plot.show()"
   ]
  },
  {
   "cell_type": "code",
   "execution_count": 20,
   "id": "9418480b",
   "metadata": {},
   "outputs": [],
   "source": [
    "# Apply Recurring neural network to Rune's Dataset"
   ]
  },
  {
   "cell_type": "code",
   "execution_count": 21,
   "id": "d14ea4ca",
   "metadata": {},
   "outputs": [],
   "source": [
    "BATCH_SIZE = 20\n",
    "BUFFER_SIZE = 5\n",
    "\n",
    "train_univariate = tf.data.Dataset.from_tensor_slices((x_train_uni, y_train_uni))\n",
    "train_univariate = train_univariate.cache().shuffle(BUFFER_SIZE).batch(BATCH_SIZE).repeat()\n",
    "\n",
    "val_univariate = tf.data.Dataset.from_tensor_slices((x_val_uni, y_val_uni))\n",
    "val_univariate = val_univariate.batch(BATCH_SIZE).repeat()\n",
    "\n"
   ]
  },
  {
   "cell_type": "code",
   "execution_count": 22,
   "id": "0dc4ab1e",
   "metadata": {},
   "outputs": [],
   "source": [
    "# Long short term memory Neural network, Tensorflow\n",
    "simple_lstm_model = tf.keras.models.Sequential([\n",
    "    tf.keras.layers.LSTM(8, input_shape=x_train_uni.shape[-2:]),\n",
    "    tf.keras.layers.Dense(1)\n",
    "])\n",
    "\n",
    "simple_lstm_model.compile(optimizer='adam', loss = 'mae')"
   ]
  },
  {
   "cell_type": "code",
   "execution_count": 23,
   "id": "72239f32",
   "metadata": {},
   "outputs": [
    {
     "name": "stdout",
     "output_type": "stream",
     "text": [
      "(20, 1)\n"
     ]
    }
   ],
   "source": [
    "for x, y in val_univariate.take(1):\n",
    "    print(simple_lstm_model.predict(x).shape)"
   ]
  },
  {
   "cell_type": "code",
   "execution_count": 24,
   "id": "7d2f2c0f",
   "metadata": {
    "scrolled": false
   },
   "outputs": [
    {
     "name": "stdout",
     "output_type": "stream",
     "text": [
      "Epoch 1/20\n",
      "500/500 [==============================] - 2s 5ms/step - loss: 0.1035 - val_loss: 6.0871\n",
      "Epoch 2/20\n",
      "500/500 [==============================] - 2s 3ms/step - loss: 0.1015 - val_loss: 6.0891\n",
      "Epoch 3/20\n",
      "500/500 [==============================] - 2s 3ms/step - loss: 0.1003 - val_loss: 6.0897\n",
      "Epoch 4/20\n",
      "500/500 [==============================] - 2s 3ms/step - loss: 0.1003 - val_loss: 6.0835\n",
      "Epoch 5/20\n",
      "500/500 [==============================] - 2s 3ms/step - loss: 0.1016 - val_loss: 6.0824\n",
      "Epoch 6/20\n",
      "500/500 [==============================] - 2s 3ms/step - loss: 0.1003 - val_loss: 6.0784\n",
      "Epoch 7/20\n",
      "500/500 [==============================] - 2s 3ms/step - loss: 0.1003 - val_loss: 6.0736\n",
      "Epoch 8/20\n",
      "500/500 [==============================] - 2s 3ms/step - loss: 0.1014 - val_loss: 6.0724\n",
      "Epoch 9/20\n",
      "500/500 [==============================] - 2s 3ms/step - loss: 0.1003 - val_loss: 6.0710\n",
      "Epoch 10/20\n",
      "500/500 [==============================] - 2s 3ms/step - loss: 0.1002 - val_loss: 6.0708\n",
      "Epoch 11/20\n",
      "500/500 [==============================] - 2s 3ms/step - loss: 0.1014 - val_loss: 6.0644\n",
      "Epoch 12/20\n",
      "500/500 [==============================] - 2s 3ms/step - loss: 0.1003 - val_loss: 6.0621\n",
      "Epoch 13/20\n",
      "500/500 [==============================] - 2s 3ms/step - loss: 0.1002 - val_loss: 6.0569\n",
      "Epoch 14/20\n",
      "500/500 [==============================] - 2s 3ms/step - loss: 0.1013 - val_loss: 6.0562\n",
      "Epoch 15/20\n",
      "500/500 [==============================] - 2s 3ms/step - loss: 0.1002 - val_loss: 6.0556\n",
      "Epoch 16/20\n",
      "500/500 [==============================] - 2s 3ms/step - loss: 0.1001 - val_loss: 6.0580\n",
      "Epoch 17/20\n",
      "500/500 [==============================] - 2s 3ms/step - loss: 0.1013 - val_loss: 6.0546\n",
      "Epoch 18/20\n",
      "500/500 [==============================] - 2s 3ms/step - loss: 0.1001 - val_loss: 6.0503\n",
      "Epoch 19/20\n",
      "500/500 [==============================] - 2s 3ms/step - loss: 0.1001 - val_loss: 6.0471\n",
      "Epoch 20/20\n",
      "500/500 [==============================] - 2s 3ms/step - loss: 0.1012 - val_loss: 6.0473\n"
     ]
    },
    {
     "data": {
      "text/plain": [
       "<tensorflow.python.keras.callbacks.History at 0x20c44867d00>"
      ]
     },
     "execution_count": 24,
     "metadata": {},
     "output_type": "execute_result"
    }
   ],
   "source": [
    "EVALUATION_INTERVAL = 500\n",
    "EPOCHS = 20\n",
    "\n",
    "simple_lstm_model.fit(train_univariate, epochs = EPOCHS,\n",
    "                     steps_per_epoch=EVALUATION_INTERVAL,\n",
    "                     validation_data = val_univariate, validation_steps=50)"
   ]
  },
  {
   "cell_type": "code",
   "execution_count": 25,
   "id": "5346f081",
   "metadata": {},
   "outputs": [],
   "source": [
    "# Loss is decreasing, this is probably due to a case of overfitting..... "
   ]
  },
  {
   "cell_type": "code",
   "execution_count": 26,
   "id": "a269aa71",
   "metadata": {
    "scrolled": false
   },
   "outputs": [
    {
     "data": {
      "image/png": "[encoded data removed]",
      "text/plain": [
       "<Figure size 432x288 with 1 Axes>"
      ]
     },
     "metadata": {
      "needs_background": "light"
     },
     "output_type": "display_data"
    },
    {
     "data": {
      "image/png": "[encoded data removed]",
      "text/plain": [
       "<Figure size 432x288 with 1 Axes>"
      ]
     },
     "metadata": {
      "needs_background": "light"
     },
     "output_type": "display_data"
    },
    {
     "data": {
      "image/png": "[encoded data removed]",
      "text/plain": [
       "<Figure size 432x288 with 1 Axes>"
      ]
     },
     "metadata": {
      "needs_background": "light"
     },
     "output_type": "display_data"
    }
   ],
   "source": [
    "# Predict with LSTM Model\n",
    "\n",
    "for x,y in val_univariate.take(3):\n",
    "    plot = show_plot([x[0].numpy(), y[0].numpy(),\n",
    "                  simple_lstm_model.predict(x)[0]], 0, 'Simple LTSM Model')\n",
    "    plot.show()"
   ]
  },
  {
   "cell_type": "code",
   "execution_count": 27,
   "id": "55306c0d",
   "metadata": {},
   "outputs": [],
   "source": [
    "# Our model did not perform the best..... We should consider adding new features.\n"
   ]
  },
  {
   "cell_type": "code",
   "execution_count": 28,
   "id": "ffcd7c3f",
   "metadata": {},
   "outputs": [],
   "source": [
    "add_features=['Yew_logs', 'Maple_logs', 'Oak_logs']"
   ]
  },
  {
   "cell_type": "code",
   "execution_count": 29,
   "id": "3bdbcb3e",
   "metadata": {},
   "outputs": [
    {
     "data": {
      "text/html": [
       "<div>\n",
       "<style scoped>\n",
       "    .dataframe tbody tr th:only-of-type {\n",
       "        vertical-align: middle;\n",
       "    }\n",
       "\n",
       "    .dataframe tbody tr th {\n",
       "        vertical-align: top;\n",
       "    }\n",
       "\n",
       "    .dataframe thead th {\n",
       "        text-align: right;\n",
       "    }\n",
       "</style>\n",
       "<table border=\"1\" class=\"dataframe\">\n",
       "  <thead>\n",
       "    <tr style=\"text-align: right;\">\n",
       "      <th></th>\n",
       "      <th>Yew_logs</th>\n",
       "      <th>Maple_logs</th>\n",
       "      <th>Oak_logs</th>\n",
       "    </tr>\n",
       "    <tr>\n",
       "      <th>timestamp</th>\n",
       "      <th></th>\n",
       "      <th></th>\n",
       "      <th></th>\n",
       "    </tr>\n",
       "  </thead>\n",
       "  <tbody>\n",
       "    <tr>\n",
       "      <th>2021-04-30</th>\n",
       "      <td>236</td>\n",
       "      <td>11</td>\n",
       "      <td>57</td>\n",
       "    </tr>\n",
       "    <tr>\n",
       "      <th>2021-05-01</th>\n",
       "      <td>234</td>\n",
       "      <td>11</td>\n",
       "      <td>58</td>\n",
       "    </tr>\n",
       "    <tr>\n",
       "      <th>2021-05-02</th>\n",
       "      <td>230</td>\n",
       "      <td>11</td>\n",
       "      <td>61</td>\n",
       "    </tr>\n",
       "    <tr>\n",
       "      <th>2021-05-03</th>\n",
       "      <td>227</td>\n",
       "      <td>11</td>\n",
       "      <td>65</td>\n",
       "    </tr>\n",
       "    <tr>\n",
       "      <th>2021-05-04</th>\n",
       "      <td>224</td>\n",
       "      <td>11</td>\n",
       "      <td>69</td>\n",
       "    </tr>\n",
       "  </tbody>\n",
       "</table>\n",
       "</div>"
      ],
      "text/plain": [
       "            Yew_logs  Maple_logs  Oak_logs\n",
       "timestamp                                 \n",
       "2021-04-30       236          11        57\n",
       "2021-05-01       234          11        58\n",
       "2021-05-02       230          11        61\n",
       "2021-05-03       227          11        65\n",
       "2021-05-04       224          11        69"
      ]
     },
     "execution_count": 29,
     "metadata": {},
     "output_type": "execute_result"
    }
   ],
   "source": [
    "features = df[add_features]\n",
    "features.index = df['timestamp']\n",
    "\n",
    "features.head()"
   ]
  },
  {
   "cell_type": "code",
   "execution_count": 30,
   "id": "64c639fc",
   "metadata": {},
   "outputs": [
    {
     "data": {
      "text/plain": [
       "array([<AxesSubplot:xlabel='timestamp'>, <AxesSubplot:xlabel='timestamp'>,\n",
       "       <AxesSubplot:xlabel='timestamp'>], dtype=object)"
      ]
     },
     "execution_count": 30,
     "metadata": {},
     "output_type": "execute_result"
    },
    {
     "data": {
      "image/png": "[encoded data removed]",
      "text/plain": [
       "<Figure size 432x288 with 3 Axes>"
      ]
     },
     "metadata": {
      "needs_background": "light"
     },
     "output_type": "display_data"
    }
   ],
   "source": [
    "features.plot(subplots = True)"
   ]
  },
  {
   "cell_type": "code",
   "execution_count": 31,
   "id": "504499fc",
   "metadata": {},
   "outputs": [],
   "source": [
    "dataset = features.values\n",
    "\n",
    "data_mean = dataset[:TRAIN_SPLIT].mean(axis=0)\n",
    "data_std = dataset[:TRAIN_SPLIT].std(axis=0)"
   ]
  },
  {
   "cell_type": "code",
   "execution_count": 32,
   "id": "baa65e41",
   "metadata": {},
   "outputs": [],
   "source": [
    "#  coefficent of variation \n",
    "dataset = (dataset-data_mean/data_std)"
   ]
  },
  {
   "cell_type": "code",
   "execution_count": 33,
   "id": "d9e81a1c",
   "metadata": {},
   "outputs": [],
   "source": [
    "# now that our data is cv, lets try and predict 1 day ahead. with a multivariated data"
   ]
  },
  {
   "cell_type": "code",
   "execution_count": 34,
   "id": "c6f4e652",
   "metadata": {},
   "outputs": [],
   "source": [
    "def multivariate_data(dataset, target, start_index, end_index, history_size,\n",
    "                      target_size, step, single_step=False):\n",
    "    data = []\n",
    "    labels = []\n",
    "    \n",
    "    start_index = start_index + history_size\n",
    "    if end_index is None:\n",
    "        end_index = len(dataset) - target_size\n",
    "        \n",
    "    for i in range(start_index, end_index):\n",
    "        indicies = range(i-history_size, i ,step)\n",
    "        data.append(dataset[indicies])\n",
    "    \n",
    "        if single_step:\n",
    "            labels.append(target[i+target_size])\n",
    "        else:\n",
    "            labels.append(target[i:i+target_size])\n",
    "        \n",
    "    return np.array(data), np.array(labels)"
   ]
  },
  {
   "cell_type": "code",
   "execution_count": 35,
   "id": "49bc5ac9",
   "metadata": {},
   "outputs": [],
   "source": [
    "# Split into training and test sets, shuffle and Batch repeat them once more. finally create a simple lstm model.\n",
    "past_history = 10\n",
    "future_target = 1\n",
    "\n",
    "STEP = 1 \n",
    "\n",
    "x_train_single, y_train_single = multivariate_data(dataset, dataset[:, 1], 0,\n",
    "                                                   TRAIN_SPLIT, past_history,\n",
    "                                                   future_target, STEP,\n",
    "                                                   single_step=True)\n",
    "x_val_single, y_val_single = multivariate_data(dataset, dataset[:, 1],\n",
    "                                               TRAIN_SPLIT, None, past_history,\n",
    "                                               future_target, STEP,\n",
    "                                               single_step=True)"
   ]
  },
  {
   "cell_type": "code",
   "execution_count": 36,
   "id": "5816558a",
   "metadata": {},
   "outputs": [
    {
     "name": "stdout",
     "output_type": "stream",
     "text": [
      "Single window of past history : (10, 3)\n"
     ]
    }
   ],
   "source": [
    "print ('Single window of past history : {}'.format(x_train_single[0].shape))"
   ]
  },
  {
   "cell_type": "code",
   "execution_count": 37,
   "id": "6c1465dc",
   "metadata": {},
   "outputs": [],
   "source": [
    "\n",
    "train_data_single = tf.data.Dataset.from_tensor_slices((x_train_single, y_train_single))\n",
    "train_data_single = train_data_single.cache().shuffle(BUFFER_SIZE).batch(BATCH_SIZE).repeat()\n",
    "\n",
    "val_data_single = tf.data.Dataset.from_tensor_slices((x_val_single, y_val_single))\n",
    "val_data_single = val_data_single.batch(BATCH_SIZE).repeat()"
   ]
  },
  {
   "cell_type": "code",
   "execution_count": 38,
   "id": "9b571a0a",
   "metadata": {},
   "outputs": [],
   "source": [
    "single_step_model = tf.keras.models.Sequential()\n",
    "single_step_model.add(tf.keras.layers.LSTM(32,\n",
    "                                          input_shape=x_train_single.shape[-2:]))\n",
    "single_step_model.add(tf.keras.layers.Dense(1))\n",
    "\n",
    "single_step_model.compile(optimizer=tf.keras.optimizers.RMSprop(), loss = 'mae')"
   ]
  },
  {
   "cell_type": "code",
   "execution_count": 39,
   "id": "f1b0c1fd",
   "metadata": {},
   "outputs": [
    {
     "name": "stdout",
     "output_type": "stream",
     "text": [
      "(20, 1)\n"
     ]
    }
   ],
   "source": [
    "for x, y in val_data_single.take(1):\n",
    "    print(single_step_model.predict(x).shape)"
   ]
  },
  {
   "cell_type": "code",
   "execution_count": 40,
   "id": "87d08125",
   "metadata": {},
   "outputs": [
    {
     "name": "stdout",
     "output_type": "stream",
     "text": [
      "Epoch 1/20\n",
      "500/500 [==============================] - 2s 5ms/step - loss: 1.9923 - val_loss: 2.2317\n",
      "Epoch 2/20\n",
      "500/500 [==============================] - 2s 4ms/step - loss: 1.2260 - val_loss: 1.3819\n",
      "Epoch 3/20\n",
      "500/500 [==============================] - 2s 4ms/step - loss: 0.7838 - val_loss: 1.3224\n",
      "Epoch 4/20\n",
      "500/500 [==============================] - 2s 4ms/step - loss: 0.5811 - val_loss: 1.5248\n",
      "Epoch 5/20\n",
      "500/500 [==============================] - 2s 4ms/step - loss: 0.4605 - val_loss: 1.4863\n",
      "Epoch 6/20\n",
      "500/500 [==============================] - 2s 4ms/step - loss: 0.4096 - val_loss: 1.1055\n",
      "Epoch 7/20\n",
      "500/500 [==============================] - 2s 4ms/step - loss: 0.3637 - val_loss: 1.4861\n",
      "Epoch 8/20\n",
      "500/500 [==============================] - 2s 4ms/step - loss: 0.3660 - val_loss: 1.3877\n",
      "Epoch 9/20\n",
      "500/500 [==============================] - 2s 4ms/step - loss: 0.3528 - val_loss: 1.4097\n",
      "Epoch 10/20\n",
      "500/500 [==============================] - 2s 4ms/step - loss: 0.3342 - val_loss: 1.3130\n",
      "Epoch 11/20\n",
      "500/500 [==============================] - 2s 4ms/step - loss: 0.3322 - val_loss: 1.5136\n",
      "Epoch 12/20\n",
      "500/500 [==============================] - 2s 4ms/step - loss: 0.3230 - val_loss: 1.3719\n",
      "Epoch 13/20\n",
      "500/500 [==============================] - 2s 4ms/step - loss: 0.3122 - val_loss: 1.3618\n",
      "Epoch 14/20\n",
      "500/500 [==============================] - 2s 4ms/step - loss: 0.3096 - val_loss: 1.3264\n",
      "Epoch 15/20\n",
      "500/500 [==============================] - 2s 4ms/step - loss: 0.3008 - val_loss: 1.4636\n",
      "Epoch 16/20\n",
      "500/500 [==============================] - 2s 4ms/step - loss: 0.2974 - val_loss: 1.3497\n",
      "Epoch 17/20\n",
      "500/500 [==============================] - 2s 4ms/step - loss: 0.2925 - val_loss: 1.4688\n",
      "Epoch 18/20\n",
      "500/500 [==============================] - 2s 4ms/step - loss: 0.2868 - val_loss: 1.2904\n",
      "Epoch 19/20\n",
      "500/500 [==============================] - 2s 4ms/step - loss: 0.2842 - val_loss: 1.4611\n",
      "Epoch 20/20\n",
      "500/500 [==============================] - 2s 4ms/step - loss: 0.2807 - val_loss: 1.3630\n"
     ]
    }
   ],
   "source": [
    "single_step_history = single_step_model.fit(train_data_single, epochs = EPOCHS,\n",
    "                                           steps_per_epoch=EVALUATION_INTERVAL,\n",
    "                                           validation_data=val_data_single,\n",
    "                                           validation_steps=50)"
   ]
  },
  {
   "cell_type": "code",
   "execution_count": 41,
   "id": "6a19c885",
   "metadata": {},
   "outputs": [],
   "source": [
    "def plot_train_history(history, title):\n",
    "    loss = history.history['loss']\n",
    "    val_loss = history.history['val_loss']\n",
    "    \n",
    "    epochs = range(len(loss))\n",
    "    \n",
    "    plt.figure()\n",
    "    \n",
    "    plt.plot(epochs, loss, 'b', label='Training loss')\n",
    "    plt.plot(epochs, val_loss, 'r', label = 'Validation loss')\n",
    "    plt.title(title)\n",
    "    plt.legend()\n",
    "    \n",
    "    plt.show()"
   ]
  },
  {
   "cell_type": "code",
   "execution_count": 42,
   "id": "f1ddb6e0",
   "metadata": {},
   "outputs": [
    {
     "data": {
      "image/png": "[encoded data removed]",
      "text/plain": [
       "<Figure size 432x288 with 1 Axes>"
      ]
     },
     "metadata": {
      "needs_background": "light"
     },
     "output_type": "display_data"
    }
   ],
   "source": [
    "plot_train_history(single_step_history,\n",
    "                  'single step training and validation loss')"
   ]
  },
  {
   "cell_type": "code",
   "execution_count": 43,
   "id": "1a8311e4",
   "metadata": {},
   "outputs": [
    {
     "data": {
      "image/png": "[encoded data removed]",
      "text/plain": [
       "<Figure size 432x288 with 1 Axes>"
      ]
     },
     "metadata": {
      "needs_background": "light"
     },
     "output_type": "display_data"
    },
    {
     "data": {
      "image/png": "[encoded data removed]",
      "text/plain": [
       "<Figure size 432x288 with 1 Axes>"
      ]
     },
     "metadata": {
      "needs_background": "light"
     },
     "output_type": "display_data"
    },
    {
     "data": {
      "image/png": "[encoded data removed]",
      "text/plain": [
       "<Figure size 432x288 with 1 Axes>"
      ]
     },
     "metadata": {
      "needs_background": "light"
     },
     "output_type": "display_data"
    }
   ],
   "source": [
    "for x, y in val_data_single.take(3):\n",
    "    plot = show_plot([x[0][:, 1].numpy(),y[0].numpy(),\n",
    "                      single_step_model.predict(x)[0]], 1,\n",
    "                     'single step prediction')\n",
    "    plot.show()"
   ]
  },
  {
   "cell_type": "code",
   "execution_count": null,
   "id": "72e24cdc",
   "metadata": {},
   "outputs": [],
   "source": []
  }
 ],
 "metadata": {
  "kernelspec": {
   "display_name": "Python 3 (ipykernel)",
   "language": "python",
   "name": "python3"
  },
  "language_info": {
   "codemirror_mode": {
    "name": "ipython",
    "version": 3
   },
   "file_extension": ".py",
   "mimetype": "text/x-python",
   "name": "python",
   "nbconvert_exporter": "python",
   "pygments_lexer": "ipython3",
   "version": "3.8.12"
  }
 },
 "nbformat": 4,
 "nbformat_minor": 5
}
