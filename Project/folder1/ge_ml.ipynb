{
 "cells": [
  {
   "cell_type": "code",
   "execution_count": 1,
   "id": "c69af86c",
   "metadata": {},
   "outputs": [],
   "source": [
    "from __future__ import absolute_import, division, print_function, unicode_literals\n",
    "import tensorflow as tf\n",
    "import matplotlib as mpl\n",
    "import matplotlib.pyplot as plt\n",
    "import numpy as np\n",
    "import os\n",
    "import pandas as pd\n",
    "\n",
    "mpl.rcParams['figure.figsize'] = (8, 6)\n",
    "mpl.rcParams['axes.grid'] = False\n",
    "%matplotlib inline"
   ]
  },
  {
   "cell_type": "code",
   "execution_count": 2,
   "id": "6e56220a",
   "metadata": {},
   "outputs": [],
   "source": [
    "df = pd.read_csv('./data/Rune_Data.csv')"
   ]
  },
  {
   "cell_type": "code",
   "execution_count": 3,
   "id": "4a9df8a8",
   "metadata": {},
   "outputs": [
    {
     "data": {
      "text/html": [
       "<div>\n",
       "<style scoped>\n",
       "    .dataframe tbody tr th:only-of-type {\n",
       "        vertical-align: middle;\n",
       "    }\n",
       "\n",
       "    .dataframe tbody tr th {\n",
       "        vertical-align: top;\n",
       "    }\n",
       "\n",
       "    .dataframe thead th {\n",
       "        text-align: right;\n",
       "    }\n",
       "</style>\n",
       "<table border=\"1\" class=\"dataframe\">\n",
       "  <thead>\n",
       "    <tr style=\"text-align: right;\">\n",
       "      <th></th>\n",
       "      <th>timestamp</th>\n",
       "      <th>Fire_rune</th>\n",
       "      <th>Water_rune</th>\n",
       "      <th>Air_rune</th>\n",
       "      <th>Earth_rune</th>\n",
       "      <th>Mind_rune</th>\n",
       "      <th>Body_rune</th>\n",
       "      <th>Death_rune</th>\n",
       "      <th>Nature_rune</th>\n",
       "      <th>Chaos_rune</th>\n",
       "      <th>Law_rune</th>\n",
       "      <th>Cosmic_rune</th>\n",
       "      <th>Blood_rune</th>\n",
       "      <th>Soul_rune</th>\n",
       "    </tr>\n",
       "  </thead>\n",
       "  <tbody>\n",
       "    <tr>\n",
       "      <th>0</th>\n",
       "      <td>2021-04-24</td>\n",
       "      <td>5</td>\n",
       "      <td>4</td>\n",
       "      <td>5</td>\n",
       "      <td>5</td>\n",
       "      <td>3</td>\n",
       "      <td>5</td>\n",
       "      <td>183</td>\n",
       "      <td>166</td>\n",
       "      <td>42</td>\n",
       "      <td>116</td>\n",
       "      <td>106</td>\n",
       "      <td>364</td>\n",
       "      <td>146</td>\n",
       "    </tr>\n",
       "    <tr>\n",
       "      <th>1</th>\n",
       "      <td>2021-04-25</td>\n",
       "      <td>5</td>\n",
       "      <td>5</td>\n",
       "      <td>5</td>\n",
       "      <td>5</td>\n",
       "      <td>3</td>\n",
       "      <td>6</td>\n",
       "      <td>182</td>\n",
       "      <td>167</td>\n",
       "      <td>41</td>\n",
       "      <td>117</td>\n",
       "      <td>103</td>\n",
       "      <td>364</td>\n",
       "      <td>145</td>\n",
       "    </tr>\n",
       "    <tr>\n",
       "      <th>2</th>\n",
       "      <td>2021-04-26</td>\n",
       "      <td>5</td>\n",
       "      <td>5</td>\n",
       "      <td>5</td>\n",
       "      <td>4</td>\n",
       "      <td>3</td>\n",
       "      <td>5</td>\n",
       "      <td>182</td>\n",
       "      <td>170</td>\n",
       "      <td>40</td>\n",
       "      <td>117</td>\n",
       "      <td>105</td>\n",
       "      <td>362</td>\n",
       "      <td>144</td>\n",
       "    </tr>\n",
       "    <tr>\n",
       "      <th>3</th>\n",
       "      <td>2021-04-27</td>\n",
       "      <td>5</td>\n",
       "      <td>5</td>\n",
       "      <td>5</td>\n",
       "      <td>4</td>\n",
       "      <td>3</td>\n",
       "      <td>5</td>\n",
       "      <td>182</td>\n",
       "      <td>173</td>\n",
       "      <td>40</td>\n",
       "      <td>118</td>\n",
       "      <td>109</td>\n",
       "      <td>360</td>\n",
       "      <td>144</td>\n",
       "    </tr>\n",
       "    <tr>\n",
       "      <th>4</th>\n",
       "      <td>2021-04-28</td>\n",
       "      <td>5</td>\n",
       "      <td>5</td>\n",
       "      <td>5</td>\n",
       "      <td>5</td>\n",
       "      <td>3</td>\n",
       "      <td>5</td>\n",
       "      <td>180</td>\n",
       "      <td>174</td>\n",
       "      <td>41</td>\n",
       "      <td>118</td>\n",
       "      <td>114</td>\n",
       "      <td>358</td>\n",
       "      <td>143</td>\n",
       "    </tr>\n",
       "  </tbody>\n",
       "</table>\n",
       "</div>"
      ],
      "text/plain": [
       "   timestamp  Fire_rune  Water_rune  Air_rune  Earth_rune  Mind_rune  \\\n",
       "0 2021-04-24          5           4         5           5          3   \n",
       "1 2021-04-25          5           5         5           5          3   \n",
       "2 2021-04-26          5           5         5           4          3   \n",
       "3 2021-04-27          5           5         5           4          3   \n",
       "4 2021-04-28          5           5         5           5          3   \n",
       "\n",
       "   Body_rune  Death_rune  Nature_rune  Chaos_rune  Law_rune  Cosmic_rune  \\\n",
       "0          5         183          166          42       116          106   \n",
       "1          6         182          167          41       117          103   \n",
       "2          5         182          170          40       117          105   \n",
       "3          5         182          173          40       118          109   \n",
       "4          5         180          174          41       118          114   \n",
       "\n",
       "   Blood_rune  Soul_rune  \n",
       "0         364        146  \n",
       "1         364        145  \n",
       "2         362        144  \n",
       "3         360        144  \n",
       "4         358        143  "
      ]
     },
     "execution_count": 3,
     "metadata": {},
     "output_type": "execute_result"
    }
   ],
   "source": [
    "df['timestamp'] = pd.to_datetime(df['timestamp'],unit='ms')\n",
    "df.head()"
   ]
  },
  {
   "cell_type": "code",
   "execution_count": 4,
   "id": "31758a2e",
   "metadata": {},
   "outputs": [],
   "source": [
    "def univariate_data(dataset, start_index, end_index, history_size, target_size):\n",
    "    data = []\n",
    "    labels = []\n",
    "    \n",
    "    start_index = start_index + history_size\n",
    "    if end_index is None:\n",
    "        end_index = len(dataset) - target_size\n",
    "        \n",
    "    for i in range(start_index, end_index):\n",
    "        indices = range(i-history_size,i)\n",
    "        #Reshape our data to (history_Size,1)\n",
    "        data.append(np.reshape(dataset[indices],(history_size,1)))\n",
    "        labels.append(dataset[i+target_size])\n",
    "    return np.array(data), np.array(labels)"
   ]
  },
  {
   "cell_type": "code",
   "execution_count": 5,
   "id": "df2be486",
   "metadata": {},
   "outputs": [],
   "source": [
    "TRAIN_SPLIT = 120"
   ]
  },
  {
   "cell_type": "code",
   "execution_count": 6,
   "id": "2f019487",
   "metadata": {},
   "outputs": [],
   "source": [
    "tf.random.set_seed(13)"
   ]
  },
  {
   "cell_type": "code",
   "execution_count": 7,
   "id": "3d738ff8",
   "metadata": {
    "scrolled": true
   },
   "outputs": [
    {
     "name": "stdout",
     "output_type": "stream",
     "text": [
      "Enter the Runes you wish to predict: Death_rune\n"
     ]
    },
    {
     "data": {
      "text/plain": [
       "timestamp\n",
       "2021-04-24    183\n",
       "2021-04-25    182\n",
       "2021-04-26    182\n",
       "2021-04-27    182\n",
       "2021-04-28    180\n",
       "Name: Death_rune, dtype: int64"
      ]
     },
     "execution_count": 7,
     "metadata": {},
     "output_type": "execute_result"
    }
   ],
   "source": [
    "# Univariate Timeseries test Test 1: Soul_rune, user input\n",
    "\n",
    "# input options: \n",
    "runes = input(\"Enter the Runes you wish to predict: \")\n",
    "uni_data = df[runes]\n",
    "\n",
    "uni_data.index = df['timestamp']\n",
    "\n",
    "uni_data.head()"
   ]
  },
  {
   "cell_type": "code",
   "execution_count": 8,
   "id": "10a38b14",
   "metadata": {
    "scrolled": false
   },
   "outputs": [
    {
     "data": {
      "text/plain": [
       "array([<AxesSubplot:xlabel='timestamp'>], dtype=object)"
      ]
     },
     "execution_count": 8,
     "metadata": {},
     "output_type": "execute_result"
    },
    {
     "data": {
      "image/png": "[encoded data removed]",
      "text/plain": [
       "<Figure size 432x288 with 1 Axes>"
      ]
     },
     "metadata": {
      "needs_background": "light"
     },
     "output_type": "display_data"
    }
   ],
   "source": [
    "uni_data.plot(subplots=True)\n"
   ]
  },
  {
   "cell_type": "code",
   "execution_count": 9,
   "id": "e83a8747",
   "metadata": {},
   "outputs": [],
   "source": [
    "uni_data = uni_data.values"
   ]
  },
  {
   "cell_type": "code",
   "execution_count": 10,
   "id": "46d52d3a",
   "metadata": {},
   "outputs": [],
   "source": [
    "# normalize features by applying coefficent of variation. subtracting mean and dividing by standard dev\n",
    "uni_train_mean = uni_data[:TRAIN_SPLIT].mean()\n",
    "uni_train_std = uni_data[:TRAIN_SPLIT].std()\n"
   ]
  },
  {
   "cell_type": "code",
   "execution_count": 11,
   "id": "77cafa1e",
   "metadata": {},
   "outputs": [],
   "source": [
    "# normalized data, coefficent of variation\n",
    "uni_data = (uni_data-uni_train_mean)/uni_train_std"
   ]
  },
  {
   "cell_type": "code",
   "execution_count": 12,
   "id": "0d31d976",
   "metadata": {},
   "outputs": [],
   "source": [
    "# Univariate model. We feed the Model the last 10 records, based off the previous historical data. it needs to learn to predict the next upcoming record\n",
    "univariate_past_history = 10\n",
    "univariate_future_target = 0\n",
    "\n",
    "x_train_uni, y_train_uni = univariate_data(uni_data, 0 ,TRAIN_SPLIT,\n",
    "                                          univariate_past_history,\n",
    "                                          univariate_future_target)\n",
    "\n",
    "x_val_uni, y_val_uni = univariate_data(uni_data,TRAIN_SPLIT, None,\n",
    "                                      univariate_past_history,\n",
    "                                      univariate_future_target)"
   ]
  },
  {
   "cell_type": "code",
   "execution_count": 13,
   "id": "abf37eb2",
   "metadata": {},
   "outputs": [
    {
     "name": "stdout",
     "output_type": "stream",
     "text": [
      "single window of past history\n",
      "[[-0.48891532]\n",
      " [-0.6393508 ]\n",
      " [-0.6393508 ]\n",
      " [-0.6393508 ]\n",
      " [-0.94022177]\n",
      " [-1.09065725]\n",
      " [-1.09065725]\n",
      " [-1.09065725]\n",
      " [-0.6393508 ]\n",
      " [-0.33847984]]\n",
      "\n",
      " target to predict\n",
      "0.11282661216669022\n"
     ]
    }
   ],
   "source": [
    "print('single window of past history')\n",
    "print(x_train_uni[0])\n",
    "print('\\n target to predict')\n",
    "print(y_train_uni[0])"
   ]
  },
  {
   "cell_type": "code",
   "execution_count": 14,
   "id": "da29d84a",
   "metadata": {},
   "outputs": [],
   "source": [
    "# Create time step\n",
    "def create_time_steps(length):\n",
    "    time_steps = []\n",
    "    for i in range(-length, 0, 1):\n",
    "        time_steps.append(i)\n",
    "    return time_steps"
   ]
  },
  {
   "cell_type": "code",
   "execution_count": 15,
   "id": "3d38a12b",
   "metadata": {},
   "outputs": [],
   "source": [
    "def show_plot (plot_data, delta, title):\n",
    "    labels = ['History', 'True Future', 'Model Prediction']\n",
    "    marker = ['.-' , 'rx' ,'go']\n",
    "    time_steps = create_time_steps(plot_data[0].shape[0])\n",
    "    if delta:\n",
    "        future = delta\n",
    "    else:\n",
    "        future = 0\n",
    "        \n",
    "    plt.title(title)\n",
    "    for i, x in enumerate(plot_data):\n",
    "        if i:\n",
    "            plt.plot(future, plot_data[i], marker[i], markersize = 10,\n",
    "                     label= labels[i])\n",
    "        else:\n",
    "            plt.plot(time_steps, plot_data[i].flatten(), marker[i], label=labels[i])\n",
    "        plt.legend()\n",
    "        plt.xlim([time_steps[0], (future+5)*2])\n",
    "        plt.xlabel('Time-step')\n",
    "        return plt\n",
    "            \n",
    "            \n",
    "    \n",
    "    "
   ]
  },
  {
   "cell_type": "code",
   "execution_count": 16,
   "id": "ae3c12c2",
   "metadata": {
    "scrolled": true
   },
   "outputs": [
    {
     "data": {
      "image/png": "[encoded data removed]",
      "text/plain": [
       "<Figure size 432x288 with 1 Axes>"
      ]
     },
     "metadata": {
      "needs_background": "light"
     },
     "output_type": "display_data"
    }
   ],
   "source": [
    "plot = show_plot([x_train_uni[0],y_train_uni[0]], 0, 'Sample Example')\n",
    "plot.show()"
   ]
  },
  {
   "cell_type": "code",
   "execution_count": 17,
   "id": "4803ccdb",
   "metadata": {},
   "outputs": [],
   "source": [
    "# BASELINE"
   ]
  },
  {
   "cell_type": "code",
   "execution_count": 18,
   "id": "d4a4abee",
   "metadata": {},
   "outputs": [],
   "source": [
    "def baseline(history):\n",
    "    return np.mean(history)"
   ]
  },
  {
   "cell_type": "code",
   "execution_count": 19,
   "id": "1874e270",
   "metadata": {
    "scrolled": true
   },
   "outputs": [
    {
     "data": {
      "image/png": "[encoded data removed]",
      "text/plain": [
       "<Figure size 432x288 with 1 Axes>"
      ]
     },
     "metadata": {
      "needs_background": "light"
     },
     "output_type": "display_data"
    }
   ],
   "source": [
    "plot = show_plot([x_train_uni[0], y_train_uni[0], baseline(x_train_uni[0])], 0, \"Baseline Prediction Example\")\n",
    "plot.show()"
   ]
  },
  {
   "cell_type": "code",
   "execution_count": 20,
   "id": "9418480b",
   "metadata": {},
   "outputs": [],
   "source": [
    "# Apply Recurring neural network to Rune's Dataset"
   ]
  },
  {
   "cell_type": "code",
   "execution_count": 21,
   "id": "d14ea4ca",
   "metadata": {},
   "outputs": [],
   "source": [
    "BATCH_SIZE = 20\n",
    "BUFFER_SIZE = 5\n",
    "\n",
    "train_univariate = tf.data.Dataset.from_tensor_slices((x_train_uni, y_train_uni))\n",
    "train_univariate = train_univariate.cache().shuffle(BUFFER_SIZE).batch(BATCH_SIZE).repeat()\n",
    "\n",
    "val_univariate = tf.data.Dataset.from_tensor_slices((x_val_uni, y_val_uni))\n",
    "val_univariate = val_univariate.batch(BATCH_SIZE).repeat()\n",
    "\n"
   ]
  },
  {
   "cell_type": "code",
   "execution_count": 22,
   "id": "0dc4ab1e",
   "metadata": {},
   "outputs": [],
   "source": [
    "# Long short term memory Neural network, Tensorflow\n",
    "simple_lstm_model = tf.keras.models.Sequential([\n",
    "    tf.keras.layers.LSTM(8, input_shape=x_train_uni.shape[-2:]),\n",
    "    tf.keras.layers.Dense(1)\n",
    "])\n",
    "\n",
    "simple_lstm_model.compile(optimizer='adam', loss = 'mae')"
   ]
  },
  {
   "cell_type": "code",
   "execution_count": 23,
   "id": "72239f32",
   "metadata": {},
   "outputs": [
    {
     "name": "stdout",
     "output_type": "stream",
     "text": [
      "(20, 1)\n"
     ]
    }
   ],
   "source": [
    "for x, y in val_univariate.take(1):\n",
    "    print(simple_lstm_model.predict(x).shape)"
   ]
  },
  {
   "cell_type": "code",
   "execution_count": 24,
   "id": "7d2f2c0f",
   "metadata": {
    "scrolled": false
   },
   "outputs": [
    {
     "name": "stdout",
     "output_type": "stream",
     "text": [
      "Epoch 1/20\n",
      "500/500 [==============================] - 3s 6ms/step - loss: 0.4906 - val_loss: 1.5174\n",
      "Epoch 2/20\n",
      "500/500 [==============================] - 2s 4ms/step - loss: 0.1949 - val_loss: 1.1679\n",
      "Epoch 3/20\n",
      "500/500 [==============================] - 2s 4ms/step - loss: 0.1440 - val_loss: 1.1612\n",
      "Epoch 4/20\n",
      "500/500 [==============================] - 2s 3ms/step - loss: 0.1357 - val_loss: 1.1544\n",
      "Epoch 5/20\n",
      "500/500 [==============================] - 2s 4ms/step - loss: 0.1262 - val_loss: 1.1553\n",
      "Epoch 6/20\n",
      "500/500 [==============================] - 2s 3ms/step - loss: 0.1179 - val_loss: 1.1691\n",
      "Epoch 7/20\n",
      "500/500 [==============================] - 2s 3ms/step - loss: 0.1120 - val_loss: 1.1809\n",
      "Epoch 8/20\n",
      "500/500 [==============================] - 2s 4ms/step - loss: 0.1065 - val_loss: 1.1795\n",
      "Epoch 9/20\n",
      "500/500 [==============================] - 2s 4ms/step - loss: 0.1024 - val_loss: 1.1840\n",
      "Epoch 10/20\n",
      "500/500 [==============================] - 2s 4ms/step - loss: 0.0985 - val_loss: 1.1811\n",
      "Epoch 11/20\n",
      "500/500 [==============================] - 2s 4ms/step - loss: 0.0949 - val_loss: 1.1786\n",
      "Epoch 12/20\n",
      "500/500 [==============================] - 2s 3ms/step - loss: 0.0917 - val_loss: 1.1709\n",
      "Epoch 13/20\n",
      "500/500 [==============================] - 2s 3ms/step - loss: 0.0885 - val_loss: 1.1602\n",
      "Epoch 14/20\n",
      "500/500 [==============================] - 2s 4ms/step - loss: 0.0864 - val_loss: 1.1594\n",
      "Epoch 15/20\n",
      "500/500 [==============================] - 2s 3ms/step - loss: 0.0847 - val_loss: 1.1610\n",
      "Epoch 16/20\n",
      "500/500 [==============================] - 2s 3ms/step - loss: 0.0826 - val_loss: 1.1700\n",
      "Epoch 17/20\n",
      "500/500 [==============================] - 2s 3ms/step - loss: 0.0799 - val_loss: 1.1858\n",
      "Epoch 18/20\n",
      "500/500 [==============================] - 2s 3ms/step - loss: 0.0772 - val_loss: 1.1840\n",
      "Epoch 19/20\n",
      "500/500 [==============================] - 2s 3ms/step - loss: 0.0743 - val_loss: 1.1782\n",
      "Epoch 20/20\n",
      "500/500 [==============================] - 2s 3ms/step - loss: 0.0728 - val_loss: 1.1707\n"
     ]
    },
    {
     "data": {
      "text/plain": [
       "<tensorflow.python.keras.callbacks.History at 0x193aac590d0>"
      ]
     },
     "execution_count": 24,
     "metadata": {},
     "output_type": "execute_result"
    }
   ],
   "source": [
    "EVALUATION_INTERVAL = 500\n",
    "EPOCHS = 20\n",
    "\n",
    "simple_lstm_model.fit(train_univariate, epochs = EPOCHS,\n",
    "                     steps_per_epoch=EVALUATION_INTERVAL,\n",
    "                     validation_data = val_univariate, validation_steps=50)"
   ]
  },
  {
   "cell_type": "code",
   "execution_count": 25,
   "id": "5346f081",
   "metadata": {},
   "outputs": [],
   "source": [
    "# Loss is decreasing, this is probably due to a case of overfitting..... "
   ]
  },
  {
   "cell_type": "code",
   "execution_count": 26,
   "id": "a269aa71",
   "metadata": {
    "scrolled": false
   },
   "outputs": [
    {
     "data": {
      "image/png": "[encoded data removed]",
      "text/plain": [
       "<Figure size 432x288 with 1 Axes>"
      ]
     },
     "metadata": {
      "needs_background": "light"
     },
     "output_type": "display_data"
    },
    {
     "data": {
      "image/png": "[encoded data removed]",
      "text/plain": [
       "<Figure size 432x288 with 1 Axes>"
      ]
     },
     "metadata": {
      "needs_background": "light"
     },
     "output_type": "display_data"
    },
    {
     "data": {
      "image/png": "[encoded data removed]",
      "text/plain": [
       "<Figure size 432x288 with 1 Axes>"
      ]
     },
     "metadata": {
      "needs_background": "light"
     },
     "output_type": "display_data"
    }
   ],
   "source": [
    "# Predict with LSTM Model\n",
    "\n",
    "for x,y in val_univariate.take(3):\n",
    "    plot = show_plot([x[0].numpy(), y[0].numpy(),\n",
    "                  simple_lstm_model.predict(x)[0]], 0, 'Simple LTSM Model')\n",
    "    plot.show()"
   ]
  },
  {
   "cell_type": "code",
   "execution_count": 27,
   "id": "55306c0d",
   "metadata": {},
   "outputs": [],
   "source": [
    "# Our model did not perform the best..... We should consider adding new features.\n"
   ]
  },
  {
   "cell_type": "code",
   "execution_count": 28,
   "id": "ffcd7c3f",
   "metadata": {},
   "outputs": [],
   "source": [
    "add_features=[ 'Blood_rune', 'Law_rune', 'Nature_rune', 'Soul_rune']"
   ]
  },
  {
   "cell_type": "code",
   "execution_count": 29,
   "id": "3bdbcb3e",
   "metadata": {},
   "outputs": [
    {
     "data": {
      "text/html": [
       "<div>\n",
       "<style scoped>\n",
       "    .dataframe tbody tr th:only-of-type {\n",
       "        vertical-align: middle;\n",
       "    }\n",
       "\n",
       "    .dataframe tbody tr th {\n",
       "        vertical-align: top;\n",
       "    }\n",
       "\n",
       "    .dataframe thead th {\n",
       "        text-align: right;\n",
       "    }\n",
       "</style>\n",
       "<table border=\"1\" class=\"dataframe\">\n",
       "  <thead>\n",
       "    <tr style=\"text-align: right;\">\n",
       "      <th></th>\n",
       "      <th>Blood_rune</th>\n",
       "      <th>Law_rune</th>\n",
       "      <th>Nature_rune</th>\n",
       "      <th>Soul_rune</th>\n",
       "    </tr>\n",
       "    <tr>\n",
       "      <th>timestamp</th>\n",
       "      <th></th>\n",
       "      <th></th>\n",
       "      <th></th>\n",
       "      <th></th>\n",
       "    </tr>\n",
       "  </thead>\n",
       "  <tbody>\n",
       "    <tr>\n",
       "      <th>2021-04-24</th>\n",
       "      <td>364</td>\n",
       "      <td>116</td>\n",
       "      <td>166</td>\n",
       "      <td>146</td>\n",
       "    </tr>\n",
       "    <tr>\n",
       "      <th>2021-04-25</th>\n",
       "      <td>364</td>\n",
       "      <td>117</td>\n",
       "      <td>167</td>\n",
       "      <td>145</td>\n",
       "    </tr>\n",
       "    <tr>\n",
       "      <th>2021-04-26</th>\n",
       "      <td>362</td>\n",
       "      <td>117</td>\n",
       "      <td>170</td>\n",
       "      <td>144</td>\n",
       "    </tr>\n",
       "    <tr>\n",
       "      <th>2021-04-27</th>\n",
       "      <td>360</td>\n",
       "      <td>118</td>\n",
       "      <td>173</td>\n",
       "      <td>144</td>\n",
       "    </tr>\n",
       "    <tr>\n",
       "      <th>2021-04-28</th>\n",
       "      <td>358</td>\n",
       "      <td>118</td>\n",
       "      <td>174</td>\n",
       "      <td>143</td>\n",
       "    </tr>\n",
       "  </tbody>\n",
       "</table>\n",
       "</div>"
      ],
      "text/plain": [
       "            Blood_rune  Law_rune  Nature_rune  Soul_rune\n",
       "timestamp                                               \n",
       "2021-04-24         364       116          166        146\n",
       "2021-04-25         364       117          167        145\n",
       "2021-04-26         362       117          170        144\n",
       "2021-04-27         360       118          173        144\n",
       "2021-04-28         358       118          174        143"
      ]
     },
     "execution_count": 29,
     "metadata": {},
     "output_type": "execute_result"
    }
   ],
   "source": [
    "features = df[add_features]\n",
    "features.index = df['timestamp']\n",
    "\n",
    "features.head()"
   ]
  },
  {
   "cell_type": "code",
   "execution_count": 30,
   "id": "64c639fc",
   "metadata": {},
   "outputs": [
    {
     "data": {
      "text/plain": [
       "array([<AxesSubplot:xlabel='timestamp'>, <AxesSubplot:xlabel='timestamp'>,\n",
       "       <AxesSubplot:xlabel='timestamp'>, <AxesSubplot:xlabel='timestamp'>],\n",
       "      dtype=object)"
      ]
     },
     "execution_count": 30,
     "metadata": {},
     "output_type": "execute_result"
    },
    {
     "data": {
      "image/png": "[encoded data removed]",
      "text/plain": [
       "<Figure size 432x288 with 4 Axes>"
      ]
     },
     "metadata": {
      "needs_background": "light"
     },
     "output_type": "display_data"
    }
   ],
   "source": [
    "features.plot(subplots = True)"
   ]
  },
  {
   "cell_type": "code",
   "execution_count": 31,
   "id": "504499fc",
   "metadata": {},
   "outputs": [],
   "source": [
    "dataset = features.values\n",
    "\n",
    "data_mean = dataset[:TRAIN_SPLIT].mean(axis=0)\n",
    "data_std = dataset[:TRAIN_SPLIT].std(axis=0)"
   ]
  },
  {
   "cell_type": "code",
   "execution_count": 32,
   "id": "baa65e41",
   "metadata": {},
   "outputs": [],
   "source": [
    "#  coefficent of variation \n",
    "dataset = (dataset-data_mean/data_std)"
   ]
  },
  {
   "cell_type": "code",
   "execution_count": 33,
   "id": "d9e81a1c",
   "metadata": {},
   "outputs": [],
   "source": [
    "# now that our data is cv, lets try and predict 1 day ahead. with a multivariated data"
   ]
  },
  {
   "cell_type": "code",
   "execution_count": 34,
   "id": "c6f4e652",
   "metadata": {},
   "outputs": [],
   "source": [
    "def multivariate_data(dataset, target, start_index, end_index, history_size,\n",
    "                      target_size, step, single_step=False):\n",
    "    data = []\n",
    "    labels = []\n",
    "    \n",
    "    start_index = start_index + history_size\n",
    "    if end_index is None:\n",
    "        end_index = len(dataset) - target_size\n",
    "        \n",
    "    for i in range(start_index, end_index):\n",
    "        indicies = range(i-history_size, i ,step)\n",
    "        data.append(dataset[indicies])\n",
    "    \n",
    "        if single_step:\n",
    "            labels.append(target[i+target_size])\n",
    "        else:\n",
    "            labels.append(target[i:i+target_size])\n",
    "        \n",
    "    return np.array(data), np.array(labels)"
   ]
  },
  {
   "cell_type": "code",
   "execution_count": 35,
   "id": "49bc5ac9",
   "metadata": {},
   "outputs": [],
   "source": [
    "# Split into training and test sets, shuffle and Batch repeat them once more. finally create a simple lstm model.\n",
    "past_history = 10\n",
    "future_target = 1\n",
    "\n",
    "STEP = 1 \n",
    "\n",
    "x_train_single, y_train_single = multivariate_data(dataset, dataset[:, 1], 0,\n",
    "                                                   TRAIN_SPLIT, past_history,\n",
    "                                                   future_target, STEP,\n",
    "                                                   single_step=True)\n",
    "x_val_single, y_val_single = multivariate_data(dataset, dataset[:, 1],\n",
    "                                               TRAIN_SPLIT, None, past_history,\n",
    "                                               future_target, STEP,\n",
    "                                               single_step=True)"
   ]
  },
  {
   "cell_type": "code",
   "execution_count": 36,
   "id": "5816558a",
   "metadata": {},
   "outputs": [
    {
     "name": "stdout",
     "output_type": "stream",
     "text": [
      "Single window of past history : (10, 4)\n"
     ]
    }
   ],
   "source": [
    "print ('Single window of past history : {}'.format(x_train_single[0].shape))"
   ]
  },
  {
   "cell_type": "code",
   "execution_count": 37,
   "id": "6c1465dc",
   "metadata": {},
   "outputs": [],
   "source": [
    "\n",
    "train_data_single = tf.data.Dataset.from_tensor_slices((x_train_single, y_train_single))\n",
    "train_data_single = train_data_single.cache().shuffle(BUFFER_SIZE).batch(BATCH_SIZE).repeat()\n",
    "\n",
    "val_data_single = tf.data.Dataset.from_tensor_slices((x_val_single, y_val_single))\n",
    "val_data_single = val_data_single.batch(BATCH_SIZE).repeat()"
   ]
  },
  {
   "cell_type": "code",
   "execution_count": 38,
   "id": "9b571a0a",
   "metadata": {},
   "outputs": [],
   "source": [
    "single_step_model = tf.keras.models.Sequential()\n",
    "single_step_model.add(tf.keras.layers.LSTM(32,\n",
    "                                          input_shape=x_train_single.shape[-2:]))\n",
    "single_step_model.add(tf.keras.layers.Dense(1))\n",
    "\n",
    "single_step_model.compile(optimizer=tf.keras.optimizers.RMSprop(), loss = 'mae')"
   ]
  },
  {
   "cell_type": "code",
   "execution_count": 39,
   "id": "f1b0c1fd",
   "metadata": {},
   "outputs": [
    {
     "name": "stdout",
     "output_type": "stream",
     "text": [
      "(20, 1)\n"
     ]
    }
   ],
   "source": [
    "for x, y in val_data_single.take(1):\n",
    "    print(single_step_model.predict(x).shape)"
   ]
  },
  {
   "cell_type": "code",
   "execution_count": 40,
   "id": "87d08125",
   "metadata": {},
   "outputs": [
    {
     "name": "stdout",
     "output_type": "stream",
     "text": [
      "Epoch 1/20\n",
      "500/500 [==============================] - 3s 6ms/step - loss: 123.8279 - val_loss: 136.3735\n",
      "Epoch 2/20\n",
      "500/500 [==============================] - 2s 4ms/step - loss: 117.6521 - val_loss: 130.1120\n",
      "Epoch 3/20\n",
      "500/500 [==============================] - 2s 4ms/step - loss: 111.4218 - val_loss: 123.8502\n",
      "Epoch 4/20\n",
      "500/500 [==============================] - 2s 4ms/step - loss: 105.0517 - val_loss: 117.5885\n",
      "Epoch 5/20\n",
      "500/500 [==============================] - 2s 4ms/step - loss: 98.8669 - val_loss: 111.3273\n",
      "Epoch 6/20\n",
      "500/500 [==============================] - 2s 4ms/step - loss: 92.6366 - val_loss: 105.0662\n",
      "Epoch 7/20\n",
      "500/500 [==============================] - 2s 4ms/step - loss: 86.2668 - val_loss: 98.8050\n",
      "Epoch 8/20\n",
      "500/500 [==============================] - 2s 4ms/step - loss: 80.0842 - val_loss: 92.5440\n",
      "Epoch 9/20\n",
      "500/500 [==============================] - 2s 4ms/step - loss: 73.8533 - val_loss: 86.2829\n",
      "Epoch 10/20\n",
      "500/500 [==============================] - 2s 4ms/step - loss: 67.4837 - val_loss: 80.0217\n",
      "Epoch 11/20\n",
      "500/500 [==============================] - 2s 4ms/step - loss: 61.3003 - val_loss: 73.7607\n",
      "Epoch 12/20\n",
      "500/500 [==============================] - 2s 4ms/step - loss: 55.0703 - val_loss: 67.4996\n",
      "Epoch 13/20\n",
      "500/500 [==============================] - 2s 4ms/step - loss: 48.6991 - val_loss: 61.2384\n",
      "Epoch 14/20\n",
      "500/500 [==============================] - 2s 4ms/step - loss: 42.5167 - val_loss: 54.9774\n",
      "Epoch 15/20\n",
      "500/500 [==============================] - 2s 4ms/step - loss: 36.2882 - val_loss: 48.7163\n",
      "Epoch 16/20\n",
      "500/500 [==============================] - 2s 4ms/step - loss: 29.9170 - val_loss: 42.4546\n",
      "Epoch 17/20\n",
      "500/500 [==============================] - 2s 4ms/step - loss: 23.7433 - val_loss: 36.2106\n",
      "Epoch 18/20\n",
      "500/500 [==============================] - 2s 4ms/step - loss: 18.6422 - val_loss: 31.1866\n",
      "Epoch 19/20\n",
      "500/500 [==============================] - 2s 4ms/step - loss: 15.8140 - val_loss: 27.2467\n",
      "Epoch 20/20\n",
      "500/500 [==============================] - 2s 4ms/step - loss: 14.1835 - val_loss: 23.9748\n"
     ]
    }
   ],
   "source": [
    "single_step_history = single_step_model.fit(train_data_single, epochs = EPOCHS,\n",
    "                                           steps_per_epoch=EVALUATION_INTERVAL,\n",
    "                                           validation_data=val_data_single,\n",
    "                                           validation_steps=50)"
   ]
  },
  {
   "cell_type": "code",
   "execution_count": 41,
   "id": "6a19c885",
   "metadata": {},
   "outputs": [],
   "source": [
    "def plot_train_history(history, title):\n",
    "    loss = history.history['loss']\n",
    "    val_loss = history.history['val_loss']\n",
    "    \n",
    "    epochs = range(len(loss))\n",
    "    \n",
    "    plt.figure()\n",
    "    \n",
    "    plt.plot(epochs, loss, 'b', label='Training loss')\n",
    "    plt.plot(epochs, val_loss, 'r', label = 'Validation loss')\n",
    "    plt.title(title)\n",
    "    plt.legend()\n",
    "    \n",
    "    plt.show()"
   ]
  },
  {
   "cell_type": "code",
   "execution_count": 42,
   "id": "f1ddb6e0",
   "metadata": {},
   "outputs": [
    {
     "data": {
      "image/png": "[encoded data removed]",
      "text/plain": [
       "<Figure size 432x288 with 1 Axes>"
      ]
     },
     "metadata": {
      "needs_background": "light"
     },
     "output_type": "display_data"
    }
   ],
   "source": [
    "plot_train_history(single_step_history,\n",
    "                  'single step training and validation loss')"
   ]
  },
  {
   "cell_type": "code",
   "execution_count": 43,
   "id": "1a8311e4",
   "metadata": {},
   "outputs": [
    {
     "data": {
      "image/png": "[encoded data removed]",
      "text/plain": [
       "<Figure size 432x288 with 1 Axes>"
      ]
     },
     "metadata": {
      "needs_background": "light"
     },
     "output_type": "display_data"
    },
    {
     "data": {
      "image/png": "[encoded data removed]",
      "text/plain": [
       "<Figure size 432x288 with 1 Axes>"
      ]
     },
     "metadata": {
      "needs_background": "light"
     },
     "output_type": "display_data"
    },
    {
     "data": {
      "image/png": "[encoded data removed]",
      "text/plain": [
       "<Figure size 432x288 with 1 Axes>"
      ]
     },
     "metadata": {
      "needs_background": "light"
     },
     "output_type": "display_data"
    }
   ],
   "source": [
    "for x, y in val_data_single.take(3):\n",
    "    plot = show_plot([x[0][:, 1].numpy(),y[0].numpy(),\n",
    "                      single_step_model.predict(x)[0]], 1,\n",
    "                     'single step prediction')\n",
    "    plot.show()"
   ]
  }
 ],
 "metadata": {
  "kernelspec": {
   "display_name": "Python 3 (ipykernel)",
   "language": "python",
   "name": "python3"
  },
  "language_info": {
   "codemirror_mode": {
    "name": "ipython",
    "version": 3
   },
   "file_extension": ".py",
   "mimetype": "text/x-python",
   "name": "python",
   "nbconvert_exporter": "python",
   "pygments_lexer": "ipython3",
   "version": "3.8.12"
  }
 },
 "nbformat": 4,
 "nbformat_minor": 5
}
